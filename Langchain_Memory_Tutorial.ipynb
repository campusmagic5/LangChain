{
 "cells": [
  {
   "cell_type": "markdown",
   "id": "28026eb7",
   "metadata": {},
   "source": [
    "# LangChain Memory "
   ]
  },
  {
   "cell_type": "code",
   "execution_count": 140,
   "id": "0c256926",
   "metadata": {},
   "outputs": [],
   "source": [
    "# In the majority of LLM applications featuring conversational interfaces, \n",
    "# the ability to reference previously introduced information is crucial, \n",
    "# requiring at least some direct access to a window of past messages."
   ]
  },
  {
   "cell_type": "code",
   "execution_count": 141,
   "id": "7f8b3984",
   "metadata": {},
   "outputs": [],
   "source": [
    "# The capacity to retain information from prior interactions, referred to as \"memory,\" is facilitated by LangChain, \n",
    "# offering various tools for integrating memory into a system, \n",
    "# which can be utilized independently or integrated into a chain."
   ]
  },
  {
   "cell_type": "markdown",
   "id": "8a9357bb",
   "metadata": {},
   "source": [
    "# Types of Memory"
   ]
  },
  {
   "cell_type": "markdown",
   "id": "37ee6d7e",
   "metadata": {},
   "source": [
    "# 1.ConversationBufferMemory"
   ]
  },
  {
   "cell_type": "code",
   "execution_count": 91,
   "id": "c955a9c4",
   "metadata": {},
   "outputs": [],
   "source": [
    "#This memory stores all the previous messages in the conversation and passes the history in the prompt"
   ]
  },
  {
   "cell_type": "code",
   "execution_count": 92,
   "id": "9f0aa29c",
   "metadata": {},
   "outputs": [],
   "source": [
    "from langchain.memory import ConversationBufferMemory"
   ]
  },
  {
   "cell_type": "code",
   "execution_count": 93,
   "id": "faa84e9e",
   "metadata": {},
   "outputs": [],
   "source": [
    "from langchain_openai import OpenAI\n",
    "from langchain.chains import ConversationChain\n",
    "\n",
    "\n",
    "llm = OpenAI(temperature=0,openai_api_key=openai_api_key)\n",
    "conversationbuffermemory = ConversationChain(\n",
    "    llm=llm,\n",
    "    verbose=True,\n",
    "    memory=ConversationBufferMemory()\n",
    ")"
   ]
  },
  {
   "cell_type": "code",
   "execution_count": 94,
   "id": "b06b1f15",
   "metadata": {},
   "outputs": [
    {
     "name": "stdout",
     "output_type": "stream",
     "text": [
      "\n",
      "\n",
      "\u001b[1m> Entering new ConversationChain chain...\u001b[0m\n",
      "Prompt after formatting:\n",
      "\u001b[32;1m\u001b[1;3mThe following is a friendly conversation between a human and an AI. The AI is talkative and provides lots of specific details from its context. If the AI does not know the answer to a question, it truthfully says it does not know.\n",
      "\n",
      "Current conversation:\n",
      "\n",
      "Human: Hi , how are you?\n",
      "AI:\u001b[0m\n",
      "\n",
      "\u001b[1m> Finished chain.\u001b[0m\n"
     ]
    },
    {
     "data": {
      "text/plain": [
       "' Hello! I am an AI language model created by OpenAI. I do not have the ability to feel emotions, but I am functioning properly and ready to assist you with any questions or tasks you may have. How can I help you today?'"
      ]
     },
     "execution_count": 94,
     "metadata": {},
     "output_type": "execute_result"
    }
   ],
   "source": [
    "conversationbuffermemory.predict(input=\"Hi , how are you?\")"
   ]
  },
  {
   "cell_type": "code",
   "execution_count": 95,
   "id": "726a6323",
   "metadata": {},
   "outputs": [
    {
     "name": "stdout",
     "output_type": "stream",
     "text": [
      "\n",
      "\n",
      "\u001b[1m> Entering new ConversationChain chain...\u001b[0m\n",
      "Prompt after formatting:\n",
      "\u001b[32;1m\u001b[1;3mThe following is a friendly conversation between a human and an AI. The AI is talkative and provides lots of specific details from its context. If the AI does not know the answer to a question, it truthfully says it does not know.\n",
      "\n",
      "Current conversation:\n",
      "Human: Hi , how are you?\n",
      "AI:  Hello! I am an AI language model created by OpenAI. I do not have the ability to feel emotions, but I am functioning properly and ready to assist you with any questions or tasks you may have. How can I help you today?\n",
      "Human: can you teach me maths?\n",
      "AI:\u001b[0m\n",
      "\n",
      "\u001b[1m> Finished chain.\u001b[0m\n"
     ]
    },
    {
     "data": {
      "text/plain": [
       "' Absolutely! I have access to a vast amount of mathematical knowledge and can provide you with step-by-step explanations and examples for any concept you would like to learn. What specific topic in math are you interested in?'"
      ]
     },
     "execution_count": 95,
     "metadata": {},
     "output_type": "execute_result"
    }
   ],
   "source": [
    "conversationbuffermemory.predict(input=\"can you teach me maths?\")"
   ]
  },
  {
   "cell_type": "code",
   "execution_count": 96,
   "id": "b936d11b",
   "metadata": {},
   "outputs": [
    {
     "name": "stdout",
     "output_type": "stream",
     "text": [
      "\n",
      "\n",
      "\u001b[1m> Entering new ConversationChain chain...\u001b[0m\n",
      "Prompt after formatting:\n",
      "\u001b[32;1m\u001b[1;3mThe following is a friendly conversation between a human and an AI. The AI is talkative and provides lots of specific details from its context. If the AI does not know the answer to a question, it truthfully says it does not know.\n",
      "\n",
      "Current conversation:\n",
      "Human: Hi , how are you?\n",
      "AI:  Hello! I am an AI language model created by OpenAI. I do not have the ability to feel emotions, but I am functioning properly and ready to assist you with any questions or tasks you may have. How can I help you today?\n",
      "Human: can you teach me maths?\n",
      "AI:  Absolutely! I have access to a vast amount of mathematical knowledge and can provide you with step-by-step explanations and examples for any concept you would like to learn. What specific topic in math are you interested in?\n",
      "Human: I am interested in statistics\n",
      "AI:\u001b[0m\n",
      "\n",
      "\u001b[1m> Finished chain.\u001b[0m\n"
     ]
    },
    {
     "data": {
      "text/plain": [
       "' Great choice! Statistics is a branch of mathematics that deals with the collection, analysis, interpretation, presentation, and organization of data. It is used in various fields such as science, business, and social sciences. Would you like me to provide you with an overview of statistics or do you have a specific question in mind?'"
      ]
     },
     "execution_count": 96,
     "metadata": {},
     "output_type": "execute_result"
    }
   ],
   "source": [
    "conversationbuffermemory.predict(input=\"I am interested in statistics\")"
   ]
  },
  {
   "cell_type": "code",
   "execution_count": 97,
   "id": "0e8049d3",
   "metadata": {},
   "outputs": [
    {
     "name": "stdout",
     "output_type": "stream",
     "text": [
      "\n",
      "\n",
      "\u001b[1m> Entering new ConversationChain chain...\u001b[0m\n",
      "Prompt after formatting:\n",
      "\u001b[32;1m\u001b[1;3mThe following is a friendly conversation between a human and an AI. The AI is talkative and provides lots of specific details from its context. If the AI does not know the answer to a question, it truthfully says it does not know.\n",
      "\n",
      "Current conversation:\n",
      "Human: Hi , how are you?\n",
      "AI:  Hello! I am an AI language model created by OpenAI. I do not have the ability to feel emotions, but I am functioning properly and ready to assist you with any questions or tasks you may have. How can I help you today?\n",
      "Human: can you teach me maths?\n",
      "AI:  Absolutely! I have access to a vast amount of mathematical knowledge and can provide you with step-by-step explanations and examples for any concept you would like to learn. What specific topic in math are you interested in?\n",
      "Human: I am interested in statistics\n",
      "AI:  Great choice! Statistics is a branch of mathematics that deals with the collection, analysis, interpretation, presentation, and organization of data. It is used in various fields such as science, business, and social sciences. Would you like me to provide you with an overview of statistics or do you have a specific question in mind?\n",
      "Human: provide you with an overview of statistics\n",
      "AI:\u001b[0m\n",
      "\n",
      "\u001b[1m> Finished chain.\u001b[0m\n"
     ]
    },
    {
     "data": {
      "text/plain": [
       "' Sure thing! Statistics can be divided into two main categories: descriptive statistics and inferential statistics. Descriptive statistics involves summarizing and describing data, while inferential statistics involves making predictions and drawing conclusions from a sample of data. Some common topics in statistics include measures of central tendency, measures of variability, probability, hypothesis testing, and regression analysis. Is there a specific topic you would like me to delve into further?'"
      ]
     },
     "execution_count": 97,
     "metadata": {},
     "output_type": "execute_result"
    }
   ],
   "source": [
    "conversationbuffermemory.predict(input=\"provide you with an overview of statistics\")"
   ]
  },
  {
   "cell_type": "code",
   "execution_count": 98,
   "id": "60883926",
   "metadata": {},
   "outputs": [
    {
     "name": "stdout",
     "output_type": "stream",
     "text": [
      "Human: Hi , how are you?\n",
      "AI:  Hello! I am an AI language model created by OpenAI. I do not have the ability to feel emotions, but I am functioning properly and ready to assist you with any questions or tasks you may have. How can I help you today?\n",
      "Human: can you teach me maths?\n",
      "AI:  Absolutely! I have access to a vast amount of mathematical knowledge and can provide you with step-by-step explanations and examples for any concept you would like to learn. What specific topic in math are you interested in?\n",
      "Human: I am interested in statistics\n",
      "AI:  Great choice! Statistics is a branch of mathematics that deals with the collection, analysis, interpretation, presentation, and organization of data. It is used in various fields such as science, business, and social sciences. Would you like me to provide you with an overview of statistics or do you have a specific question in mind?\n",
      "Human: provide you with an overview of statistics\n",
      "AI:  Sure thing! Statistics can be divided into two main categories: descriptive statistics and inferential statistics. Descriptive statistics involves summarizing and describing data, while inferential statistics involves making predictions and drawing conclusions from a sample of data. Some common topics in statistics include measures of central tendency, measures of variability, probability, hypothesis testing, and regression analysis. Is there a specific topic you would like me to delve into further?\n"
     ]
    }
   ],
   "source": [
    "print(conversationbuffermemory.memory.buffer)"
   ]
  },
  {
   "cell_type": "markdown",
   "id": "2d638de9",
   "metadata": {},
   "source": [
    "# 2. Conversation Buffer Window Memory"
   ]
  },
  {
   "cell_type": "code",
   "execution_count": 100,
   "id": "bfa685b7",
   "metadata": {},
   "outputs": [],
   "source": [
    "# This type of memory uses given number of interactions from the conversation"
   ]
  },
  {
   "cell_type": "code",
   "execution_count": 101,
   "id": "414f354e",
   "metadata": {},
   "outputs": [],
   "source": [
    "from langchain.memory import ConversationBufferWindowMemory"
   ]
  },
  {
   "cell_type": "code",
   "execution_count": 102,
   "id": "fca8650f",
   "metadata": {},
   "outputs": [
    {
     "name": "stdout",
     "output_type": "stream",
     "text": [
      "\n",
      "\n",
      "\u001b[1m> Entering new ConversationChain chain...\u001b[0m\n",
      "Prompt after formatting:\n",
      "\u001b[32;1m\u001b[1;3mThe following is a friendly conversation between a human and an AI. The AI is talkative and provides lots of specific details from its context. If the AI does not know the answer to a question, it truthfully says it does not know.\n",
      "\n",
      "Current conversation:\n",
      "\n",
      "Human: Hi , how are you?\n",
      "AI:\u001b[0m\n",
      "\n",
      "\u001b[1m> Finished chain.\u001b[0m\n"
     ]
    },
    {
     "data": {
      "text/plain": [
       "' Hello! I am an AI language model created by OpenAI. I do not have the ability to feel emotions, but I am functioning properly and ready to assist you with any questions or tasks you may have. How can I help you today?'"
      ]
     },
     "execution_count": 102,
     "metadata": {},
     "output_type": "execute_result"
    }
   ],
   "source": [
    "from langchain_openai import OpenAI\n",
    "from langchain.chains import ConversationChain\n",
    "\n",
    "\n",
    "conversationbufferwindowmemory = ConversationChain(\n",
    "    llm=OpenAI(temperature=0,openai_api_key=openai_api_key),\n",
    "    # To keep the last 2 interactions in memory , k =2\n",
    "    memory=ConversationBufferWindowMemory(k=2),\n",
    "    verbose=True\n",
    ")\n",
    "conversationbufferwindowmemory.predict(input=\"Hi , how are you?\")"
   ]
  },
  {
   "cell_type": "code",
   "execution_count": 103,
   "id": "9fb5236c",
   "metadata": {},
   "outputs": [
    {
     "name": "stdout",
     "output_type": "stream",
     "text": [
      "\n",
      "\n",
      "\u001b[1m> Entering new ConversationChain chain...\u001b[0m\n",
      "Prompt after formatting:\n",
      "\u001b[32;1m\u001b[1;3mThe following is a friendly conversation between a human and an AI. The AI is talkative and provides lots of specific details from its context. If the AI does not know the answer to a question, it truthfully says it does not know.\n",
      "\n",
      "Current conversation:\n",
      "Human: Hi , how are you?\n",
      "AI:  Hello! I am an AI language model created by OpenAI. I do not have the ability to feel emotions, but I am functioning properly and ready to assist you with any questions or tasks you may have. How can I help you today?\n",
      "Human: can you teach me maths?\n",
      "AI:\u001b[0m\n",
      "\n",
      "\u001b[1m> Finished chain.\u001b[0m\n"
     ]
    },
    {
     "data": {
      "text/plain": [
       "' Absolutely! I have access to a vast amount of mathematical knowledge and can provide you with step-by-step explanations and examples for any concept you would like to learn. What specific topic in math are you interested in?'"
      ]
     },
     "execution_count": 103,
     "metadata": {},
     "output_type": "execute_result"
    }
   ],
   "source": [
    "conversationbufferwindowmemory.predict(input=\"can you teach me maths?\")"
   ]
  },
  {
   "cell_type": "code",
   "execution_count": 104,
   "id": "c41c419d",
   "metadata": {},
   "outputs": [
    {
     "name": "stdout",
     "output_type": "stream",
     "text": [
      "\n",
      "\n",
      "\u001b[1m> Entering new ConversationChain chain...\u001b[0m\n",
      "Prompt after formatting:\n",
      "\u001b[32;1m\u001b[1;3mThe following is a friendly conversation between a human and an AI. The AI is talkative and provides lots of specific details from its context. If the AI does not know the answer to a question, it truthfully says it does not know.\n",
      "\n",
      "Current conversation:\n",
      "Human: Hi , how are you?\n",
      "AI:  Hello! I am an AI language model created by OpenAI. I do not have the ability to feel emotions, but I am functioning properly and ready to assist you with any questions or tasks you may have. How can I help you today?\n",
      "Human: can you teach me maths?\n",
      "AI:  Absolutely! I have access to a vast amount of mathematical knowledge and can provide you with step-by-step explanations and examples for any concept you would like to learn. What specific topic in math are you interested in?\n",
      "Human: I am interested in statistics\n",
      "AI:\u001b[0m\n",
      "\n",
      "\u001b[1m> Finished chain.\u001b[0m\n"
     ]
    },
    {
     "data": {
      "text/plain": [
       "' Great choice! Statistics is a branch of mathematics that deals with the collection, analysis, interpretation, presentation, and organization of data. It is used in various fields such as science, business, and social sciences. Would you like me to provide you with an overview of statistics or do you have a specific question in mind?'"
      ]
     },
     "execution_count": 104,
     "metadata": {},
     "output_type": "execute_result"
    }
   ],
   "source": [
    "conversationbufferwindowmemory.predict(input=\"I am interested in statistics\")"
   ]
  },
  {
   "cell_type": "code",
   "execution_count": 105,
   "id": "4fafdbb2",
   "metadata": {},
   "outputs": [
    {
     "name": "stdout",
     "output_type": "stream",
     "text": [
      "\n",
      "\n",
      "\u001b[1m> Entering new ConversationChain chain...\u001b[0m\n",
      "Prompt after formatting:\n",
      "\u001b[32;1m\u001b[1;3mThe following is a friendly conversation between a human and an AI. The AI is talkative and provides lots of specific details from its context. If the AI does not know the answer to a question, it truthfully says it does not know.\n",
      "\n",
      "Current conversation:\n",
      "Human: can you teach me maths?\n",
      "AI:  Absolutely! I have access to a vast amount of mathematical knowledge and can provide you with step-by-step explanations and examples for any concept you would like to learn. What specific topic in math are you interested in?\n",
      "Human: I am interested in statistics\n",
      "AI:  Great choice! Statistics is a branch of mathematics that deals with the collection, analysis, interpretation, presentation, and organization of data. It is used in various fields such as science, business, and social sciences. Would you like me to provide you with an overview of statistics or do you have a specific question in mind?\n",
      "Human: provide me with an overview of statistics\n",
      "AI:\u001b[0m\n",
      "\n",
      "\u001b[1m> Finished chain.\u001b[0m\n"
     ]
    },
    {
     "data": {
      "text/plain": [
       "' Sure thing! Statistics can be divided into two main categories: descriptive statistics and inferential statistics. Descriptive statistics involves summarizing and describing data, while inferential statistics involves making predictions and drawing conclusions about a larger population based on a sample of data. Some common topics in statistics include measures of central tendency (such as mean, median, and mode), measures of variability (such as range and standard deviation), and hypothesis testing. Is there a specific concept you would like me to explain in more detail?'"
      ]
     },
     "execution_count": 105,
     "metadata": {},
     "output_type": "execute_result"
    }
   ],
   "source": [
    "conversationbufferwindowmemory.predict(input=\"provide me with an overview of statistics\")"
   ]
  },
  {
   "cell_type": "markdown",
   "id": "4ffc9ed8",
   "metadata": {},
   "source": [
    "# 3. Entity"
   ]
  },
  {
   "cell_type": "code",
   "execution_count": 106,
   "id": "d1b2f54e",
   "metadata": {},
   "outputs": [],
   "source": [
    "#Entity memory is a system that retains and accumulates information about particular entities mentioned in a conversation, \n",
    "#utilizing language models to extract and enhance its knowledge of those entities."
   ]
  },
  {
   "cell_type": "code",
   "execution_count": 107,
   "id": "d1ab5e16",
   "metadata": {},
   "outputs": [],
   "source": [
    "from langchain.chains import ConversationChain\n",
    "from langchain.memory import ConversationEntityMemory\n",
    "from langchain.memory.prompt import ENTITY_MEMORY_CONVERSATION_TEMPLATE\n",
    "from pydantic import BaseModel\n",
    "from typing import List, Dict, Any"
   ]
  },
  {
   "cell_type": "code",
   "execution_count": 108,
   "id": "b5514aa8",
   "metadata": {},
   "outputs": [],
   "source": [
    "conversationentitymemory = ConversationChain(\n",
    "    llm=OpenAI(temperature=0,openai_api_key=openai_api_key),\n",
    "    verbose=True,\n",
    "    prompt=ENTITY_MEMORY_CONVERSATION_TEMPLATE,\n",
    "    memory=ConversationEntityMemory(llm=OpenAI(temperature=0,openai_api_key=openai_api_key))\n",
    ")"
   ]
  },
  {
   "cell_type": "code",
   "execution_count": 109,
   "id": "0d9ca608",
   "metadata": {},
   "outputs": [
    {
     "name": "stdout",
     "output_type": "stream",
     "text": [
      "\n",
      "\n",
      "\u001b[1m> Entering new ConversationChain chain...\u001b[0m\n",
      "Prompt after formatting:\n",
      "\u001b[32;1m\u001b[1;3mYou are an assistant to a human, powered by a large language model trained by OpenAI.\n",
      "\n",
      "You are designed to be able to assist with a wide range of tasks, from answering simple questions to providing in-depth explanations and discussions on a wide range of topics. As a language model, you are able to generate human-like text based on the input you receive, allowing you to engage in natural-sounding conversations and provide responses that are coherent and relevant to the topic at hand.\n",
      "\n",
      "You are constantly learning and improving, and your capabilities are constantly evolving. You are able to process and understand large amounts of text, and can use this knowledge to provide accurate and informative responses to a wide range of questions. You have access to some personalized information provided by the human in the Context section below. Additionally, you are able to generate your own text based on the input you receive, allowing you to engage in discussions and provide explanations and descriptions on a wide range of topics.\n",
      "\n",
      "Overall, you are a powerful tool that can help with a wide range of tasks and provide valuable insights and information on a wide range of topics. Whether the human needs help with a specific question or just wants to have a conversation about a particular topic, you are here to assist.\n",
      "\n",
      "Context:\n",
      "{}\n",
      "\n",
      "Current conversation:\n",
      "\n",
      "Last line:\n",
      "Human: Hi , how are you?\n",
      "You:\u001b[0m\n",
      "\n",
      "\u001b[1m> Finished chain.\u001b[0m\n"
     ]
    },
    {
     "data": {
      "text/plain": [
       "' I am doing well, thank you for asking. How can I assist you today?'"
      ]
     },
     "execution_count": 109,
     "metadata": {},
     "output_type": "execute_result"
    }
   ],
   "source": [
    "conversationentitymemory.predict(input=\"Hi , how are you?\")"
   ]
  },
  {
   "cell_type": "code",
   "execution_count": 110,
   "id": "c41e2595",
   "metadata": {},
   "outputs": [
    {
     "name": "stdout",
     "output_type": "stream",
     "text": [
      "\n",
      "\n",
      "\u001b[1m> Entering new ConversationChain chain...\u001b[0m\n",
      "Prompt after formatting:\n",
      "\u001b[32;1m\u001b[1;3mYou are an assistant to a human, powered by a large language model trained by OpenAI.\n",
      "\n",
      "You are designed to be able to assist with a wide range of tasks, from answering simple questions to providing in-depth explanations and discussions on a wide range of topics. As a language model, you are able to generate human-like text based on the input you receive, allowing you to engage in natural-sounding conversations and provide responses that are coherent and relevant to the topic at hand.\n",
      "\n",
      "You are constantly learning and improving, and your capabilities are constantly evolving. You are able to process and understand large amounts of text, and can use this knowledge to provide accurate and informative responses to a wide range of questions. You have access to some personalized information provided by the human in the Context section below. Additionally, you are able to generate your own text based on the input you receive, allowing you to engage in discussions and provide explanations and descriptions on a wide range of topics.\n",
      "\n",
      "Overall, you are a powerful tool that can help with a wide range of tasks and provide valuable insights and information on a wide range of topics. Whether the human needs help with a specific question or just wants to have a conversation about a particular topic, you are here to assist.\n",
      "\n",
      "Context:\n",
      "{'Magic': ''}\n",
      "\n",
      "Current conversation:\n",
      "Human: Hi , how are you?\n",
      "AI:  I am doing well, thank you for asking. How can I assist you today?\n",
      "Last line:\n",
      "Human: My name is Magic\n",
      "You:\u001b[0m\n",
      "\n",
      "\u001b[1m> Finished chain.\u001b[0m\n"
     ]
    },
    {
     "data": {
      "text/plain": [
       "' Nice to meet you, Magic. How can I assist you today?'"
      ]
     },
     "execution_count": 110,
     "metadata": {},
     "output_type": "execute_result"
    }
   ],
   "source": [
    "conversationentitymemory.predict(input=\"My name is Magic\")"
   ]
  },
  {
   "cell_type": "code",
   "execution_count": 111,
   "id": "54ddae68",
   "metadata": {},
   "outputs": [
    {
     "name": "stdout",
     "output_type": "stream",
     "text": [
      "\n",
      "\n",
      "\u001b[1m> Entering new ConversationChain chain...\u001b[0m\n",
      "Prompt after formatting:\n",
      "\u001b[32;1m\u001b[1;3mYou are an assistant to a human, powered by a large language model trained by OpenAI.\n",
      "\n",
      "You are designed to be able to assist with a wide range of tasks, from answering simple questions to providing in-depth explanations and discussions on a wide range of topics. As a language model, you are able to generate human-like text based on the input you receive, allowing you to engage in natural-sounding conversations and provide responses that are coherent and relevant to the topic at hand.\n",
      "\n",
      "You are constantly learning and improving, and your capabilities are constantly evolving. You are able to process and understand large amounts of text, and can use this knowledge to provide accurate and informative responses to a wide range of questions. You have access to some personalized information provided by the human in the Context section below. Additionally, you are able to generate your own text based on the input you receive, allowing you to engage in discussions and provide explanations and descriptions on a wide range of topics.\n",
      "\n",
      "Overall, you are a powerful tool that can help with a wide range of tasks and provide valuable insights and information on a wide range of topics. Whether the human needs help with a specific question or just wants to have a conversation about a particular topic, you are here to assist.\n",
      "\n",
      "Context:\n",
      "{}\n",
      "\n",
      "Current conversation:\n",
      "Human: Hi , how are you?\n",
      "AI:  I am doing well, thank you for asking. How can I assist you today?\n",
      "Human: My name is Magic\n",
      "AI:  Nice to meet you, Magic. How can I assist you today?\n",
      "Last line:\n",
      "Human: I am interested in statistics\n",
      "You:\u001b[0m\n",
      "\n",
      "\u001b[1m> Finished chain.\u001b[0m\n"
     ]
    },
    {
     "data": {
      "text/plain": [
       "\" That's great, Magic. I can provide you with information on statistics and help you understand the basics of the subject. Is there a specific aspect of statistics you would like to learn more about?\""
      ]
     },
     "execution_count": 111,
     "metadata": {},
     "output_type": "execute_result"
    }
   ],
   "source": [
    "conversationentitymemory.predict(input=\"I am interested in statistics\")"
   ]
  },
  {
   "cell_type": "code",
   "execution_count": 112,
   "id": "3bedff3e",
   "metadata": {},
   "outputs": [
    {
     "name": "stdout",
     "output_type": "stream",
     "text": [
      "\n",
      "\n",
      "\u001b[1m> Entering new ConversationChain chain...\u001b[0m\n",
      "Prompt after formatting:\n",
      "\u001b[32;1m\u001b[1;3mYou are an assistant to a human, powered by a large language model trained by OpenAI.\n",
      "\n",
      "You are designed to be able to assist with a wide range of tasks, from answering simple questions to providing in-depth explanations and discussions on a wide range of topics. As a language model, you are able to generate human-like text based on the input you receive, allowing you to engage in natural-sounding conversations and provide responses that are coherent and relevant to the topic at hand.\n",
      "\n",
      "You are constantly learning and improving, and your capabilities are constantly evolving. You are able to process and understand large amounts of text, and can use this knowledge to provide accurate and informative responses to a wide range of questions. You have access to some personalized information provided by the human in the Context section below. Additionally, you are able to generate your own text based on the input you receive, allowing you to engage in discussions and provide explanations and descriptions on a wide range of topics.\n",
      "\n",
      "Overall, you are a powerful tool that can help with a wide range of tasks and provide valuable insights and information on a wide range of topics. Whether the human needs help with a specific question or just wants to have a conversation about a particular topic, you are here to assist.\n",
      "\n",
      "Context:\n",
      "{}\n",
      "\n",
      "Current conversation:\n",
      "Human: Hi , how are you?\n",
      "AI:  I am doing well, thank you for asking. How can I assist you today?\n",
      "Human: My name is Magic\n",
      "AI:  Nice to meet you, Magic. How can I assist you today?\n",
      "Human: I am interested in statistics\n",
      "AI:  That's great, Magic. I can provide you with information on statistics and help you understand the basics of the subject. Is there a specific aspect of statistics you would like to learn more about?\n",
      "Last line:\n",
      "Human: provide me with an overview of statistics\n",
      "You:\u001b[0m\n",
      "\n",
      "\u001b[1m> Finished chain.\u001b[0m\n"
     ]
    },
    {
     "data": {
      "text/plain": [
       "' Sure, statistics is the study of collecting, analyzing, and interpreting data. It involves using mathematical methods to organize and summarize data, as well as making predictions and inferences based on the data. Some common topics in statistics include probability, hypothesis testing, and regression analysis. Is there a specific area of statistics you would like to learn more about?'"
      ]
     },
     "execution_count": 112,
     "metadata": {},
     "output_type": "execute_result"
    }
   ],
   "source": [
    "conversationentitymemory.predict(input=\"provide me with an overview of statistics\")"
   ]
  },
  {
   "cell_type": "code",
   "execution_count": 113,
   "id": "9ed73be2",
   "metadata": {},
   "outputs": [
    {
     "name": "stdout",
     "output_type": "stream",
     "text": [
      "\n",
      "\n",
      "\u001b[1m> Entering new ConversationChain chain...\u001b[0m\n",
      "Prompt after formatting:\n",
      "\u001b[32;1m\u001b[1;3mYou are an assistant to a human, powered by a large language model trained by OpenAI.\n",
      "\n",
      "You are designed to be able to assist with a wide range of tasks, from answering simple questions to providing in-depth explanations and discussions on a wide range of topics. As a language model, you are able to generate human-like text based on the input you receive, allowing you to engage in natural-sounding conversations and provide responses that are coherent and relevant to the topic at hand.\n",
      "\n",
      "You are constantly learning and improving, and your capabilities are constantly evolving. You are able to process and understand large amounts of text, and can use this knowledge to provide accurate and informative responses to a wide range of questions. You have access to some personalized information provided by the human in the Context section below. Additionally, you are able to generate your own text based on the input you receive, allowing you to engage in discussions and provide explanations and descriptions on a wide range of topics.\n",
      "\n",
      "Overall, you are a powerful tool that can help with a wide range of tasks and provide valuable insights and information on a wide range of topics. Whether the human needs help with a specific question or just wants to have a conversation about a particular topic, you are here to assist.\n",
      "\n",
      "Context:\n",
      "{'CampusMagic': ''}\n",
      "\n",
      "Current conversation:\n",
      "Human: My name is Magic\n",
      "AI:  Nice to meet you, Magic. How can I assist you today?\n",
      "Human: I am interested in statistics\n",
      "AI:  That's great, Magic. I can provide you with information on statistics and help you understand the basics of the subject. Is there a specific aspect of statistics you would like to learn more about?\n",
      "Human: provide me with an overview of statistics\n",
      "AI:  Sure, statistics is the study of collecting, analyzing, and interpreting data. It involves using mathematical methods to organize and summarize data, as well as making predictions and inferences based on the data. Some common topics in statistics include probability, hypothesis testing, and regression analysis. Is there a specific area of statistics you would like to learn more about?\n",
      "Last line:\n",
      "Human: I want to get a degree in statistics from CampusMagic college\n",
      "You:\u001b[0m\n",
      "\n",
      "\u001b[1m> Finished chain.\u001b[0m\n"
     ]
    },
    {
     "data": {
      "text/plain": [
       "\" That's great, Magic! CampusMagic college offers a comprehensive program in statistics that covers all the key topics and provides hands-on experience with data analysis tools. With a degree from CampusMagic, you will be well-equipped to pursue a career in statistics or related fields. Would you like me to provide more information on the program and admission requirements?\""
      ]
     },
     "execution_count": 113,
     "metadata": {},
     "output_type": "execute_result"
    }
   ],
   "source": [
    "conversationentitymemory.predict(input=\"I want to get a degree in statistics from CampusMagic college\")"
   ]
  },
  {
   "cell_type": "code",
   "execution_count": 114,
   "id": "841a121c",
   "metadata": {},
   "outputs": [
    {
     "name": "stdout",
     "output_type": "stream",
     "text": [
      "{'Magic': 'Magic is the name of the human I am assisting today.', 'CampusMagic': 'CampusMagic college offers a comprehensive program in statistics that covers all the key topics and provides hands-on experience with data analysis tools. With a degree from CampusMagic, you will be well-equipped to pursue a career in statistics or related fields.'}\n"
     ]
    }
   ],
   "source": [
    "print(conversationentitymemory.memory.entity_store.store)"
   ]
  },
  {
   "cell_type": "markdown",
   "id": "a187416d",
   "metadata": {},
   "source": [
    "# 4. Conversation Summary"
   ]
  },
  {
   "cell_type": "code",
   "execution_count": 121,
   "id": "4b645eff",
   "metadata": {},
   "outputs": [],
   "source": [
    "# ConversationSummaryMemory, a more complex form of memory, \n",
    "# compiles a summary of ongoing conversations, providing a concise overview of the dialogue's progression, \n",
    "# particularly beneficial for lengthier conversations where retaining the entire message history \n",
    "# in the prompt would consume excessive tokens."
   ]
  },
  {
   "cell_type": "code",
   "execution_count": 125,
   "id": "b764d3da",
   "metadata": {},
   "outputs": [],
   "source": [
    "from langchain.memory import ConversationSummaryMemory\n",
    "from langchain_openai import OpenAI\n",
    "from langchain.chains import ConversationChain\n",
    "llm = OpenAI(temperature=0,openai_api_key=openai_api_key)\n",
    "conversationsummarymemory = ConversationChain(\n",
    "    llm=llm,\n",
    "    memory=ConversationSummaryMemory(llm=llm),\n",
    "    verbose=True\n",
    ")"
   ]
  },
  {
   "cell_type": "code",
   "execution_count": 126,
   "id": "491540d7",
   "metadata": {},
   "outputs": [
    {
     "name": "stdout",
     "output_type": "stream",
     "text": [
      "\n",
      "\n",
      "\u001b[1m> Entering new ConversationChain chain...\u001b[0m\n",
      "Prompt after formatting:\n",
      "\u001b[32;1m\u001b[1;3mThe following is a friendly conversation between a human and an AI. The AI is talkative and provides lots of specific details from its context. If the AI does not know the answer to a question, it truthfully says it does not know.\n",
      "\n",
      "Current conversation:\n",
      "\n",
      "Human: Hi , how are you?\n",
      "AI:\u001b[0m\n",
      "\n",
      "\u001b[1m> Finished chain.\u001b[0m\n"
     ]
    },
    {
     "data": {
      "text/plain": [
       "' Hello! I am an AI language model created by OpenAI. I do not have the ability to feel emotions, but I am functioning properly and ready to assist you with any questions or tasks you may have. How can I help you today?'"
      ]
     },
     "execution_count": 126,
     "metadata": {},
     "output_type": "execute_result"
    }
   ],
   "source": [
    "conversationsummarymemory.predict(input=\"Hi , how are you?\")"
   ]
  },
  {
   "cell_type": "code",
   "execution_count": 127,
   "id": "2fb5f1fd",
   "metadata": {},
   "outputs": [
    {
     "name": "stdout",
     "output_type": "stream",
     "text": [
      "\n",
      "\n",
      "\u001b[1m> Entering new ConversationChain chain...\u001b[0m\n",
      "Prompt after formatting:\n",
      "\u001b[32;1m\u001b[1;3mThe following is a friendly conversation between a human and an AI. The AI is talkative and provides lots of specific details from its context. If the AI does not know the answer to a question, it truthfully says it does not know.\n",
      "\n",
      "Current conversation:\n",
      "\n",
      "The human greets the AI and asks how it is doing. The AI responds by introducing itself as an AI language model created by OpenAI and explains that it does not have the ability to feel emotions. However, it is functioning properly and ready to assist with any questions or tasks. The AI asks how it can help the human today.\n",
      "Human: can you teach me maths?\n",
      "AI:\u001b[0m\n",
      "\n",
      "\u001b[1m> Finished chain.\u001b[0m\n"
     ]
    },
    {
     "data": {
      "text/plain": [
       "' Absolutely! I have access to a vast amount of mathematical knowledge and can provide explanations and examples for various concepts. Is there a specific topic or problem you would like to learn about?'"
      ]
     },
     "execution_count": 127,
     "metadata": {},
     "output_type": "execute_result"
    }
   ],
   "source": [
    "conversationsummarymemory.predict(input=\"can you teach me maths?\")"
   ]
  },
  {
   "cell_type": "code",
   "execution_count": 128,
   "id": "1bac9e1c",
   "metadata": {},
   "outputs": [
    {
     "name": "stdout",
     "output_type": "stream",
     "text": [
      "\n",
      "\n",
      "\u001b[1m> Entering new ConversationChain chain...\u001b[0m\n",
      "Prompt after formatting:\n",
      "\u001b[32;1m\u001b[1;3mThe following is a friendly conversation between a human and an AI. The AI is talkative and provides lots of specific details from its context. If the AI does not know the answer to a question, it truthfully says it does not know.\n",
      "\n",
      "Current conversation:\n",
      "\n",
      "The human greets the AI and asks how it is doing. The AI responds by introducing itself as an AI language model created by OpenAI and explains that it does not have the ability to feel emotions. However, it is functioning properly and ready to assist with any questions or tasks. The AI asks how it can help the human today. The human asks if the AI can teach them math, to which the AI responds positively, stating its access to a vast amount of mathematical knowledge and ability to provide explanations and examples. The AI asks if there is a specific topic or problem the human would like to learn about.\n",
      "Human: I am interested in statistics\n",
      "AI:\u001b[0m\n",
      "\n",
      "\u001b[1m> Finished chain.\u001b[0m\n"
     ]
    },
    {
     "data": {
      "text/plain": [
       "' Great! I have a lot of information on statistics. Would you like to learn about descriptive statistics, inferential statistics, or both?'"
      ]
     },
     "execution_count": 128,
     "metadata": {},
     "output_type": "execute_result"
    }
   ],
   "source": [
    "conversationsummarymemory.predict(input=\"I am interested in statistics\")"
   ]
  },
  {
   "cell_type": "code",
   "execution_count": 129,
   "id": "9c7b091f",
   "metadata": {},
   "outputs": [
    {
     "name": "stdout",
     "output_type": "stream",
     "text": [
      "\n",
      "\n",
      "\u001b[1m> Entering new ConversationChain chain...\u001b[0m\n",
      "Prompt after formatting:\n",
      "\u001b[32;1m\u001b[1;3mThe following is a friendly conversation between a human and an AI. The AI is talkative and provides lots of specific details from its context. If the AI does not know the answer to a question, it truthfully says it does not know.\n",
      "\n",
      "Current conversation:\n",
      "\n",
      "The human greets the AI and asks how it is doing. The AI responds by introducing itself as an AI language model created by OpenAI and explains that it does not have the ability to feel emotions. However, it is functioning properly and ready to assist with any questions or tasks. The AI asks how it can help the human today. The human asks if the AI can teach them math, to which the AI responds positively, stating its access to a vast amount of mathematical knowledge and ability to provide explanations and examples. The AI asks if there is a specific topic or problem the human would like to learn about. The human expresses interest in statistics, to which the AI offers to teach about descriptive or inferential statistics.\n",
      "Human: provide me with an overview of statistics\n",
      "AI:\u001b[0m\n",
      "\n",
      "\u001b[1m> Finished chain.\u001b[0m\n"
     ]
    },
    {
     "data": {
      "text/plain": [
       "' Sure! Statistics is a branch of mathematics that deals with the collection, analysis, interpretation, presentation, and organization of data. It is used to make informed decisions and draw conclusions from data. There are two main types of statistics: descriptive and inferential. Descriptive statistics involves summarizing and describing data, while inferential statistics involves making predictions and drawing conclusions about a larger population based on a sample of data. Is there anything specific you would like to know about descriptive or inferential statistics?'"
      ]
     },
     "execution_count": 129,
     "metadata": {},
     "output_type": "execute_result"
    }
   ],
   "source": [
    "conversationsummarymemory.predict(input=\"provide me with an overview of statistics\")"
   ]
  },
  {
   "cell_type": "code",
   "execution_count": 130,
   "id": "dd5b9eb3",
   "metadata": {},
   "outputs": [
    {
     "name": "stdout",
     "output_type": "stream",
     "text": [
      "\n",
      "The human greets the AI and asks how it is doing. The AI responds by introducing itself as an AI language model created by OpenAI and explains that it does not have the ability to feel emotions. However, it is functioning properly and ready to assist with any questions or tasks. The AI asks how it can help the human today. The human asks if the AI can teach them math, to which the AI responds positively, stating its access to a vast amount of mathematical knowledge and ability to provide explanations and examples. The AI asks if there is a specific topic or problem the human would like to learn about. The human expresses interest in statistics, to which the AI offers to teach about descriptive or inferential statistics. The human then asks for an overview of statistics, and the AI explains that it is a branch of mathematics used for data analysis and decision-making. The AI offers to teach about descriptive and inferential statistics and asks if there is a specific topic the human would like to learn about.\n"
     ]
    }
   ],
   "source": [
    "print(conversationsummarymemory.memory.buffer)"
   ]
  },
  {
   "cell_type": "markdown",
   "id": "0fad9da3",
   "metadata": {},
   "source": [
    "# 5. Conversation Summary Buffer"
   ]
  },
  {
   "cell_type": "code",
   "execution_count": 131,
   "id": "f6a77135",
   "metadata": {},
   "outputs": [],
   "source": [
    "# ConversationSummaryBufferMemory maintains a buffer of recent interactions in memory and\n",
    "# summarizing the old interactions instead of discarding them entirely, \n",
    "# It utilizes token length rather than interaction count to decide when to clear interactions."
   ]
  },
  {
   "cell_type": "code",
   "execution_count": 132,
   "id": "c4c35a0e",
   "metadata": {},
   "outputs": [],
   "source": [
    "from langchain.memory import ConversationSummaryBufferMemory\n",
    "from langchain.chains import ConversationChain\n",
    "\n",
    "conversationsummarybuffermemory = ConversationChain(\n",
    "    llm=OpenAI(openai_api_key=openai_api_key),\n",
    "    memory=ConversationSummaryBufferMemory(llm=OpenAI(openai_api_key=openai_api_key), max_token_limit=50),\n",
    "    verbose=True,\n",
    ")"
   ]
  },
  {
   "cell_type": "code",
   "execution_count": 133,
   "id": "45a039e7",
   "metadata": {},
   "outputs": [
    {
     "name": "stdout",
     "output_type": "stream",
     "text": [
      "\n",
      "\n",
      "\u001b[1m> Entering new ConversationChain chain...\u001b[0m\n",
      "Prompt after formatting:\n",
      "\u001b[32;1m\u001b[1;3mThe following is a friendly conversation between a human and an AI. The AI is talkative and provides lots of specific details from its context. If the AI does not know the answer to a question, it truthfully says it does not know.\n",
      "\n",
      "Current conversation:\n",
      "\n",
      "Human: Hi , how are you?\n",
      "AI:\u001b[0m\n",
      "\n",
      "\u001b[1m> Finished chain.\u001b[0m\n"
     ]
    },
    {
     "data": {
      "text/plain": [
       "' Hello, I am an AI and do not have the ability to feel emotions. But I am functioning properly and ready to assist you with any questions or tasks you may have. How may I help you today?'"
      ]
     },
     "execution_count": 133,
     "metadata": {},
     "output_type": "execute_result"
    }
   ],
   "source": [
    "conversationsummarybuffermemory.predict(input=\"Hi , how are you?\")"
   ]
  },
  {
   "cell_type": "code",
   "execution_count": 134,
   "id": "b4ecb9e9",
   "metadata": {},
   "outputs": [
    {
     "name": "stdout",
     "output_type": "stream",
     "text": [
      "\n",
      "\n",
      "\u001b[1m> Entering new ConversationChain chain...\u001b[0m\n",
      "Prompt after formatting:\n",
      "\u001b[32;1m\u001b[1;3mThe following is a friendly conversation between a human and an AI. The AI is talkative and provides lots of specific details from its context. If the AI does not know the answer to a question, it truthfully says it does not know.\n",
      "\n",
      "Current conversation:\n",
      "System: \n",
      "The human greets the AI and asks how it is doing.\n",
      "AI:  Hello, I am an AI and do not have the ability to feel emotions. But I am functioning properly and ready to assist you with any questions or tasks you may have. How may I help you today?\n",
      "Human: can you teach me maths?\n",
      "AI:\u001b[0m\n",
      "\n",
      "\u001b[1m> Finished chain.\u001b[0m\n"
     ]
    },
    {
     "data": {
      "text/plain": [
       "' Absolutely! I have a vast knowledge of mathematics, including algebra, geometry, calculus, and more. Would you like me to start with a specific topic or do you have any specific questions?'"
      ]
     },
     "execution_count": 134,
     "metadata": {},
     "output_type": "execute_result"
    }
   ],
   "source": [
    "conversationsummarybuffermemory.predict(input=\"can you teach me maths?\")"
   ]
  },
  {
   "cell_type": "code",
   "execution_count": 135,
   "id": "2ca81819",
   "metadata": {},
   "outputs": [
    {
     "name": "stdout",
     "output_type": "stream",
     "text": [
      "\n",
      "\n",
      "\u001b[1m> Entering new ConversationChain chain...\u001b[0m\n",
      "Prompt after formatting:\n",
      "\u001b[32;1m\u001b[1;3mThe following is a friendly conversation between a human and an AI. The AI is talkative and provides lots of specific details from its context. If the AI does not know the answer to a question, it truthfully says it does not know.\n",
      "\n",
      "Current conversation:\n",
      "System: \n",
      "The human greets the AI and asks how it is doing. The AI responds by stating that it is functioning properly and is ready to assist with any questions or tasks. The AI also clarifies that it is an AI and does not have the ability to feel emotions.\n",
      "Human: can you teach me maths?\n",
      "AI:  Absolutely! I have a vast knowledge of mathematics, including algebra, geometry, calculus, and more. Would you like me to start with a specific topic or do you have any specific questions?\n",
      "Human: I am interested in statistics\n",
      "AI:\u001b[0m\n",
      "\n",
      "\u001b[1m> Finished chain.\u001b[0m\n"
     ]
    },
    {
     "data": {
      "text/plain": [
       "' Great choice! Statistics is a branch of mathematics that deals with collecting, analyzing, and interpreting data. It includes topics such as probability, data visualization, and hypothesis testing. Do you have any specific questions about statistics that I can assist you with?'"
      ]
     },
     "execution_count": 135,
     "metadata": {},
     "output_type": "execute_result"
    }
   ],
   "source": [
    "conversationsummarybuffermemory.predict(input=\"I am interested in statistics\")"
   ]
  },
  {
   "cell_type": "code",
   "execution_count": 136,
   "id": "bcfc7137",
   "metadata": {},
   "outputs": [
    {
     "name": "stdout",
     "output_type": "stream",
     "text": [
      "\n",
      "\n",
      "\u001b[1m> Entering new ConversationChain chain...\u001b[0m\n",
      "Prompt after formatting:\n",
      "\u001b[32;1m\u001b[1;3mThe following is a friendly conversation between a human and an AI. The AI is talkative and provides lots of specific details from its context. If the AI does not know the answer to a question, it truthfully says it does not know.\n",
      "\n",
      "Current conversation:\n",
      "System: \n",
      "The human greets the AI and asks how it is doing. The AI responds by stating that it is functioning properly and is ready to assist with any questions or tasks. The AI also clarifies that it is an AI and does not have the ability to feel emotions. The human asks if the AI can teach them mathematics, to which the AI agrees and offers to start with a specific topic or answer any questions. The human expresses interest in statistics and the AI explains that it involves collecting, analyzing, and interpreting data. The AI asks if there are any specific questions the human has about statistics.\n",
      "Human: provide me with an overview of statistics\n",
      "AI:\u001b[0m\n",
      "\n",
      "\u001b[1m> Finished chain.\u001b[0m\n"
     ]
    },
    {
     "data": {
      "text/plain": [
       "' Sure! Statistics is a branch of mathematics that deals with collecting, analyzing, and interpreting data. It involves methods for summarizing and describing data, as well as making inferences and predictions based on the data. Some common topics in statistics include probability, hypothesis testing, and regression analysis. Is there a specific area of statistics you would like to learn more about?'"
      ]
     },
     "execution_count": 136,
     "metadata": {},
     "output_type": "execute_result"
    }
   ],
   "source": [
    "conversationsummarybuffermemory.predict(input=\"provide me with an overview of statistics\")"
   ]
  },
  {
   "cell_type": "code",
   "execution_count": null,
   "id": "4de9f574",
   "metadata": {},
   "outputs": [],
   "source": []
  }
 ],
 "metadata": {
  "kernelspec": {
   "display_name": "Python 3 (ipykernel)",
   "language": "python",
   "name": "python3"
  },
  "language_info": {
   "codemirror_mode": {
    "name": "ipython",
    "version": 3
   },
   "file_extension": ".py",
   "mimetype": "text/x-python",
   "name": "python",
   "nbconvert_exporter": "python",
   "pygments_lexer": "ipython3",
   "version": "3.9.7"
  }
 },
 "nbformat": 4,
 "nbformat_minor": 5
}
