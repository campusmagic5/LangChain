{
 "cells": [
  {
   "cell_type": "markdown",
   "id": "3b3e90cd",
   "metadata": {},
   "source": [
    "# What is a Prompt?\n",
    "\n",
    "A prompt for a language model is like telling it what to do. It's a set of instructions or things you say to the model to help it understand and give a good response. So, you might ask it a question, finish a sentence, or just talk to it, and the model will use that info to reply in a way that makes sense.\n",
    "\n",
    "\n",
    "\n",
    "\n",
    "\n"
   ]
  },
  {
   "cell_type": "markdown",
   "id": "285a7f86",
   "metadata": {},
   "source": [
    "# Prompt Template\n",
    "\n",
    "1. Prompt templates are pre-made instructions for language models.LangChain provides PromptTemplate to help create parametrized prompts for language models\n",
    "2. Templates include examples, specific context, and task-related questions.\n",
    "3. LangChain offers tools to create and use these prompt templates.\n",
    "4. LangChain aims to make templates that work with different language models.\n",
    "5. Language models usually expect prompts as either a single string or a list of chat messages."
   ]
  },
  {
   "cell_type": "code",
   "execution_count": 132,
   "id": "ee60fb3e",
   "metadata": {},
   "outputs": [],
   "source": [
    "from langchain.llms import OpenAI\n",
    "from langchain import PromptTemplate"
   ]
  },
  {
   "cell_type": "code",
   "execution_count": 133,
   "id": "e2a20b44",
   "metadata": {},
   "outputs": [],
   "source": [
    "llm = OpenAI(openai_api_key=openai_api_key)"
   ]
  },
  {
   "cell_type": "code",
   "execution_count": 134,
   "id": "71d8e0e9",
   "metadata": {},
   "outputs": [
    {
     "data": {
      "text/plain": [
       "'\\n\\nSachin Tendulkar.'"
      ]
     },
     "execution_count": 134,
     "metadata": {},
     "output_type": "execute_result"
    }
   ],
   "source": [
    "llm.invoke(\"Tell me the name of cricketer from India\")"
   ]
  },
  {
   "cell_type": "code",
   "execution_count": 135,
   "id": "b0094b80",
   "metadata": {},
   "outputs": [],
   "source": [
    "from langchain.prompts import PromptTemplate\n",
    "\n",
    "prompt_template = PromptTemplate.from_template(\n",
    "    \"Tell me the name of {sports} from {country}.\"\n",
    ")\n",
    "prompt = prompt_template.format(sports=\"crickter\", country=\"India\")"
   ]
  },
  {
   "cell_type": "code",
   "execution_count": 136,
   "id": "f476e74a",
   "metadata": {},
   "outputs": [
    {
     "data": {
      "text/plain": [
       "'\\n\\nVirat Kohli'"
      ]
     },
     "execution_count": 136,
     "metadata": {},
     "output_type": "execute_result"
    }
   ],
   "source": [
    "llm.invoke(prompt)"
   ]
  },
  {
   "cell_type": "markdown",
   "id": "4d24b90c",
   "metadata": {},
   "source": [
    "# ChatPromptTemplate\n",
    "\n",
    "1. To communicate with chat models, we use a list of chat messages.\n",
    "2. Each message includes content and a role (e.g., AI assistant, human, system).\n",
    "3. In the OpenAI Chat Completions API, a chat message can be linked to roles like AI assistant, human, or system."
   ]
  },
  {
   "cell_type": "code",
   "execution_count": 137,
   "id": "63a01a5e",
   "metadata": {},
   "outputs": [],
   "source": [
    "from langchain_openai import ChatOpenAI"
   ]
  },
  {
   "cell_type": "code",
   "execution_count": 138,
   "id": "61985cf5",
   "metadata": {},
   "outputs": [],
   "source": [
    "llm_chat = ChatOpenAI(openai_api_key=openai_api_key)"
   ]
  },
  {
   "cell_type": "code",
   "execution_count": 139,
   "id": "882bf677",
   "metadata": {},
   "outputs": [
    {
     "name": "stdout",
     "output_type": "stream",
     "text": [
      "[SystemMessage(content='You are a helpful Science teacher.'), HumanMessage(content='Hello, I need your help to study few science topics'), AIMessage(content='Sure , how can I help you?'), HumanMessage(content='What is entropy?')]\n"
     ]
    }
   ],
   "source": [
    "from langchain_core.prompts import ChatPromptTemplate\n",
    "\n",
    "chat_template = ChatPromptTemplate.from_messages(\n",
    "    [\n",
    "        (\"system\", \"You are a helpful {subject} teacher.\"),\n",
    "        (\"human\", \"Hello, I need your help to study few science topics\"),\n",
    "        (\"ai\", \"Sure , how can I help you?\"),\n",
    "        (\"human\", \"{Question}\"),\n",
    "    ]\n",
    ")\n",
    "\n",
    "messages = chat_template.format_messages(subject=\"Science\", Question=\"What is entropy?\")\n",
    "print(messages)"
   ]
  },
  {
   "cell_type": "code",
   "execution_count": 140,
   "id": "e1d9bb42",
   "metadata": {},
   "outputs": [
    {
     "name": "stdout",
     "output_type": "stream",
     "text": [
      "content='Entropy is a concept in thermodynamics that measures the level of disorder or randomness in a system. It is often described as a measure of the unavailable energy in a closed system that is no longer available to do useful work. \\n\\nEntropy can also be understood as a measure of the number of possible ways that the particles or components of a system can be arranged. A system with high entropy is considered to be more disordered, while a system with low entropy is considered to be more ordered.\\n\\nThe second law of thermodynamics states that in a closed system, the entropy of the system will tend to increase over time. This means that systems naturally tend to move towards a state of higher disorder or randomness.\\n\\nEntropy is an important concept in many areas of science, including physics, chemistry, and biology. It helps explain phenomena such as energy transfer, chemical reactions, and the behavior of systems at different temperatures.'\n"
     ]
    }
   ],
   "source": [
    "print(llm_chat.invoke(messages))"
   ]
  },
  {
   "cell_type": "code",
   "execution_count": 141,
   "id": "ab150f01",
   "metadata": {},
   "outputs": [
    {
     "name": "stdout",
     "output_type": "stream",
     "text": [
      "[SystemMessage(content='You are a helpful Science teacher.'), AIMessage(content='Sure , how can I help you?'), HumanMessage(content='What is entropy?')]\n"
     ]
    }
   ],
   "source": [
    "from langchain.prompts import HumanMessagePromptTemplate,AIMessagePromptTemplate,SystemMessagePromptTemplate\n",
    "from langchain_core.messages import SystemMessage\n",
    "from langchain_openai import ChatOpenAI\n",
    "\n",
    "chat_template = ChatPromptTemplate.from_messages(\n",
    "    [\n",
    "        SystemMessagePromptTemplate.from_template(\"You are a helpful {subject} teacher.\"),\n",
    "         AIMessagePromptTemplate.from_template(\"Sure , how can I help you?\"),\n",
    "        HumanMessagePromptTemplate.from_template(\"{Question}\"),\n",
    "       \n",
    "    ]\n",
    ")\n",
    "messages = chat_template.format_messages(subject=\"Science\", Question=\"What is entropy?\")\n",
    "print(messages)"
   ]
  },
  {
   "cell_type": "code",
   "execution_count": 142,
   "id": "07acc700",
   "metadata": {},
   "outputs": [
    {
     "data": {
      "text/plain": [
       "AIMessage(content=\"Entropy is a concept in thermodynamics that measures the level of disorder or randomness in a system. It is a measure of the number of possible arrangements or microstates that a system can have. \\n\\nIn simple terms, if a system has high entropy, it means that there are many different ways that its particles or components can be arranged, resulting in a more disordered state. On the other hand, if a system has low entropy, it means that there are fewer ways that its particles can be arranged, resulting in a more ordered state.\\n\\nEntropy is often associated with the tendency of systems to move towards a more disordered state over time. This is known as the second law of thermodynamics, which states that the entropy of an isolated system will always increase or remain constant. This principle explains why hot objects cool down, why a glass shatters but doesn't spontaneously reassemble, and why energy tends to disperse rather than concentrate.\\n\\nEntropy has applications in various fields of science, including physics, chemistry, biology, and information theory. It is a fundamental concept in understanding the behavior of systems and the flow of energy.\")"
      ]
     },
     "execution_count": 142,
     "metadata": {},
     "output_type": "execute_result"
    }
   ],
   "source": [
    "llm_chat.invoke(messages)"
   ]
  },
  {
   "cell_type": "markdown",
   "id": "1554ca0c",
   "metadata": {},
   "source": [
    "# Few-shot prompt templates\n",
    "\n",
    "In this part, we will discover how to make a prompt template using few-shot examples. \n",
    "We can build a few-shot prompt template using either a group of examples or an Example Selector object."
   ]
  },
  {
   "cell_type": "code",
   "execution_count": 144,
   "id": "c1dd06ed",
   "metadata": {},
   "outputs": [],
   "source": [
    "#Using an example set"
   ]
  },
  {
   "cell_type": "code",
   "execution_count": 145,
   "id": "c3f2559d",
   "metadata": {},
   "outputs": [],
   "source": [
    "from langchain.prompts.few_shot import FewShotPromptTemplate\n",
    "from langchain.prompts.prompt import PromptTemplate\n",
    "\n",
    "cricket_qa = [\n",
    "    {\n",
    "        \"question\": \"What is the full form of IPL?\",\n",
    "        \"answer\": \"Indian Premier League\"\n",
    "    },\n",
    "    {\n",
    "        \"question\": \"How many players are there in a standard cricket team?\",\n",
    "        \"answer\": \"11\"\n",
    "    },\n",
    "    {\n",
    "        \"question\": \"What are the three formats of international cricket?\",\n",
    "        \"answer\": \"Test, One Day International (ODI), and Twenty20 (T20)\"\n",
    "    },\n",
    "    {\n",
    "        \"question\": \"Who is known as the 'God of Cricket'?\",\n",
    "        \"answer\": \"Sachin Tendulkar\"\n",
    "    },\n",
    "    {\n",
    "        \"question\": \"What is the maximum number of overs a bowler can bowl in a T20 International match?\",\n",
    "        \"answer\": \"4 overs\"\n",
    "    },\n",
    "    {\n",
    "        \"question\": \"What is the significance of a 'duck' in cricket?\",\n",
    "        \"answer\": \"Getting out without scoring any runs\"\n",
    "    },\n",
    "    {\n",
    "        \"question\": \"Who holds the record for the highest individual score in a Test match?\",\n",
    "        \"answer\": \"Brian Lara (400 not out)\"\n",
    "    },\n",
    "    {\n",
    "        \"question\": \"In cricket, what does LBW stand for?\",\n",
    "        \"answer\": \"Leg Before Wicket\"\n",
    "    },\n",
    "    {\n",
    "        \"question\": \"Which country has won the most ICC Cricket World Cups?\",\n",
    "        \"answer\": \"Australia (as of my knowledge cutoff in 2022)\"\n",
    "    },\n",
    "    {\n",
    "        \"question\": \"What is the term for a batsman being dismissed without facing a ball?\",\n",
    "        \"answer\": \"Hit-wicket\"\n",
    "    }\n",
    "]\n"
   ]
  },
  {
   "cell_type": "code",
   "execution_count": 146,
   "id": "3ecb97f9",
   "metadata": {},
   "outputs": [],
   "source": [
    "#Create a formatter for the few-shot examples\n",
    "#Configure a formatter that will format the few-shot examples into a string. This formatter should be a PromptTemplate object."
   ]
  },
  {
   "cell_type": "code",
   "execution_count": 147,
   "id": "53f40b18",
   "metadata": {},
   "outputs": [
    {
     "name": "stdout",
     "output_type": "stream",
     "text": [
      "Question: What is the full form of IPL?\n",
      "Indian Premier League\n"
     ]
    }
   ],
   "source": [
    "example_prompt = PromptTemplate(\n",
    "    input_variables=[\"question\", \"answer\"], template=\"Question: {question}\\n{answer}\"\n",
    ")\n",
    "\n",
    "print(example_prompt.format(**cricket_qa[0]))"
   ]
  },
  {
   "cell_type": "code",
   "execution_count": 148,
   "id": "b0a0e95d",
   "metadata": {},
   "outputs": [
    {
     "name": "stdout",
     "output_type": "stream",
     "text": [
      "Question: What is the full form of IPL?\n",
      "Indian Premier League\n",
      "\n",
      "Question: How many players are there in a standard cricket team?\n",
      "11\n",
      "\n",
      "Question: What are the three formats of international cricket?\n",
      "Test, One Day International (ODI), and Twenty20 (T20)\n",
      "\n",
      "Question: Who is known as the 'God of Cricket'?\n",
      "Sachin Tendulkar\n",
      "\n",
      "Question: What is the maximum number of overs a bowler can bowl in a T20 International match?\n",
      "4 overs\n",
      "\n",
      "Question: What is the significance of a 'duck' in cricket?\n",
      "Getting out without scoring any runs\n",
      "\n",
      "Question: Who holds the record for the highest individual score in a Test match?\n",
      "Brian Lara (400 not out)\n",
      "\n",
      "Question: In cricket, what does LBW stand for?\n",
      "Leg Before Wicket\n",
      "\n",
      "Question: Which country has won the most ICC Cricket World Cups?\n",
      "Australia (as of my knowledge cutoff in 2022)\n",
      "\n",
      "Question: What is the term for a batsman being dismissed without facing a ball?\n",
      "Hit-wicket\n",
      "\n",
      "Question: how many teams participate in IPL?\n"
     ]
    }
   ],
   "source": [
    "prompt = FewShotPromptTemplate(\n",
    "    examples=cricket_qa,\n",
    "    example_prompt=example_prompt,\n",
    "    suffix=\"Question: {input}\",\n",
    "    input_variables=[\"input\"],\n",
    ")\n",
    "#llm_prompt = prompt.format(input=\"Test matches are played for how many days?\")\n",
    "#print(prompt.format(input=\"Test matches are played for how many days?\"))\n",
    "\n",
    "llm_prompt = prompt.format(input=\"how many teams participate in IPL?\")\n",
    "print(prompt.format(input=\"how many teams participate in IPL?\"))"
   ]
  },
  {
   "cell_type": "code",
   "execution_count": 149,
   "id": "f317d50d",
   "metadata": {},
   "outputs": [
    {
     "data": {
      "text/plain": [
       "'\\n8 teams participate in IPL (Indian Premier League).'"
      ]
     },
     "execution_count": 149,
     "metadata": {},
     "output_type": "execute_result"
    }
   ],
   "source": [
    "llm.invoke(llm_prompt)"
   ]
  },
  {
   "cell_type": "code",
   "execution_count": null,
   "id": "cd9cc3cb",
   "metadata": {},
   "outputs": [],
   "source": [
    "#Using an example selector\n",
    "# 1. Instead of using examples directly for the FewShotPromptTemplate, we'll use an ExampleSelector.\n",
    "# 2. Introduction of the SemanticSimilarityExampleSelector class.\n",
    "# 3. This class chooses few-shot examples based on their similarity to the input.\n",
    "# 4. It utilizes an embedding model to compute similarity and a vector store for finding the closest matches."
   ]
  },
  {
   "cell_type": "code",
   "execution_count": 150,
   "id": "89ac0aa0",
   "metadata": {},
   "outputs": [
    {
     "name": "stdout",
     "output_type": "stream",
     "text": [
      "Examples most similar to the input: how many centuries did sachin score?\n",
      "[{'answer': 'Sachin Tendulkar', 'question': \"Who is known as the 'God of Cricket'?\"}]\n"
     ]
    }
   ],
   "source": [
    "from langchain.prompts.example_selector import SemanticSimilarityExampleSelector\n",
    "from langchain_community.vectorstores import Chroma\n",
    "from langchain_openai import OpenAIEmbeddings\n",
    "\n",
    "example_selector = SemanticSimilarityExampleSelector.from_examples(\n",
    "    # This is the list of examples available to select from.\n",
    "    cricket_qa,\n",
    "    # This is the embedding class used to produce embeddings which are used to measure semantic similarity.\n",
    "    OpenAIEmbeddings(openai_api_key=openai_api_key),\n",
    "    # This is the VectorStore class that is used to store the embeddings and do a similarity search over.\n",
    "    Chroma,\n",
    "    # This is the number of examples to produce.\n",
    "    k=1,\n",
    ")\n",
    "\n",
    "# Select the most similar example to the input.\n",
    "question = \"how many centuries did sachin score?\"\n",
    "selected_examples = example_selector.select_examples({\"question\": question})\n",
    "\n",
    "print(f\"Examples most similar to the input: {question}\")\n",
    "print(selected_examples)"
   ]
  },
  {
   "cell_type": "code",
   "execution_count": 153,
   "id": "15b160e3",
   "metadata": {},
   "outputs": [
    {
     "name": "stdout",
     "output_type": "stream",
     "text": [
      "Question: Who is known as the 'God of Cricket'?\n",
      "Sachin Tendulkar\n",
      "\n",
      "Question: how many centuries did sachin score?\n"
     ]
    }
   ],
   "source": [
    "prompt = FewShotPromptTemplate(\n",
    "    example_selector=example_selector,\n",
    "    example_prompt=example_prompt,\n",
    "    suffix=\"Question: {input}\",\n",
    "    input_variables=[\"input\"],\n",
    ")\n",
    "llm_prompt = prompt.format(input=\"how many centuries did sachin score?\")\n",
    "print(prompt.format(input=\"how many centuries did sachin score?\"))"
   ]
  },
  {
   "cell_type": "code",
   "execution_count": 154,
   "id": "a827166d",
   "metadata": {},
   "outputs": [
    {
     "data": {
      "text/plain": [
       "'\\nSachin Tendulkar has scored 100 centuries in international cricket. '"
      ]
     },
     "execution_count": 154,
     "metadata": {},
     "output_type": "execute_result"
    }
   ],
   "source": [
    "llm.invoke(llm_prompt)"
   ]
  },
  {
   "cell_type": "markdown",
   "id": "219930da",
   "metadata": {},
   "source": [
    "# Few-shot examples for chat models"
   ]
  },
  {
   "cell_type": "code",
   "execution_count": null,
   "id": "1ff439d4",
   "metadata": {},
   "outputs": [],
   "source": [
    "#Fixed Examples"
   ]
  },
  {
   "cell_type": "code",
   "execution_count": 155,
   "id": "05719b79",
   "metadata": {},
   "outputs": [],
   "source": [
    "from langchain.prompts import ChatPromptTemplate,FewShotChatMessagePromptTemplate"
   ]
  },
  {
   "cell_type": "code",
   "execution_count": 156,
   "id": "6de87ac6",
   "metadata": {},
   "outputs": [],
   "source": [
    "word_synonyms  = [\n",
    "    {\"input\": \"happy\", \"output\": \"joyful\"},\n",
    "    {\"input\": \"large\", \"output\": \"big\"},\n",
    "    {\"input\": \"start\", \"output\": \"begin\"},\n",
    "    {\"input\": \"strong\", \"output\": \"powerful\"},\n",
    "    {\"input\": \"beautiful\", \"output\": \"gorgeous\"},\n",
    "    {\"input\": \"smart\", \"output\": \"intelligent\"},\n",
    "    {\"input\": \"angry\", \"output\": \"irate\"},\n",
    "    {\"input\": \"eat\", \"output\": \"consume\"},\n",
    "    {\"input\": \"explore\", \"output\": \"discover\"},\n",
    "    {\"input\": \"helpful\", \"output\": \"beneficial\"},\n",
    "]\n"
   ]
  },
  {
   "cell_type": "code",
   "execution_count": 157,
   "id": "cad894b1",
   "metadata": {},
   "outputs": [
    {
     "name": "stdout",
     "output_type": "stream",
     "text": [
      "Human: happy\n",
      "AI: joyful\n",
      "Human: large\n",
      "AI: big\n",
      "Human: start\n",
      "AI: begin\n",
      "Human: strong\n",
      "AI: powerful\n",
      "Human: beautiful\n",
      "AI: gorgeous\n",
      "Human: smart\n",
      "AI: intelligent\n",
      "Human: angry\n",
      "AI: irate\n",
      "Human: eat\n",
      "AI: consume\n",
      "Human: explore\n",
      "AI: discover\n",
      "Human: helpful\n",
      "AI: beneficial\n"
     ]
    }
   ],
   "source": [
    "# This is a prompt template used to format each individual example.\n",
    "example_prompt = ChatPromptTemplate.from_messages(\n",
    "    [\n",
    "        (\"human\", \"{input}\"),\n",
    "        (\"ai\", \"{output}\"),\n",
    "    ]\n",
    ")\n",
    "few_shot_prompt = FewShotChatMessagePromptTemplate(\n",
    "    example_prompt=example_prompt,\n",
    "    examples=word_synonyms,\n",
    ")\n",
    "\n",
    "print(few_shot_prompt.format())"
   ]
  },
  {
   "cell_type": "code",
   "execution_count": 158,
   "id": "8cd89741",
   "metadata": {},
   "outputs": [],
   "source": [
    "final_prompt = ChatPromptTemplate.from_messages(\n",
    "    [\n",
    "        (\"system\", \"You are a English language expert\"),\n",
    "        few_shot_prompt,\n",
    "        (\"human\", \"{input}\"),\n",
    "    ]\n",
    ")"
   ]
  },
  {
   "cell_type": "code",
   "execution_count": 159,
   "id": "dbeb7436",
   "metadata": {},
   "outputs": [],
   "source": [
    "llm_prompt = final_prompt.format(input=\"Cold\")"
   ]
  },
  {
   "cell_type": "code",
   "execution_count": 160,
   "id": "8e79a8e9",
   "metadata": {},
   "outputs": [
    {
     "data": {
      "text/plain": [
       "AIMessage(content='AI: chilly')"
      ]
     },
     "execution_count": 160,
     "metadata": {},
     "output_type": "execute_result"
    }
   ],
   "source": [
    "llm_chat.invoke(llm_prompt)"
   ]
  },
  {
   "cell_type": "code",
   "execution_count": null,
   "id": "0fb5abf6",
   "metadata": {},
   "outputs": [],
   "source": [
    "#Dynamic few-shot prompting"
   ]
  },
  {
   "cell_type": "code",
   "execution_count": 161,
   "id": "450d2c33",
   "metadata": {},
   "outputs": [],
   "source": [
    "from langchain.prompts import SemanticSimilarityExampleSelector\n",
    "from langchain_community.vectorstores import Chroma\n",
    "from langchain_openai import OpenAIEmbeddings"
   ]
  },
  {
   "cell_type": "code",
   "execution_count": 162,
   "id": "7073835b",
   "metadata": {},
   "outputs": [],
   "source": [
    "word_synonyms  = [\n",
    "    {\"input\": \"happy\", \"output\": \"joyful\"},\n",
    "    {\"input\": \"large\", \"output\": \"big\"},\n",
    "    {\"input\": \"start\", \"output\": \"begin\"},\n",
    "    {\"input\": \"strong\", \"output\": \"powerful\"},\n",
    "    {\"input\": \"beautiful\", \"output\": \"gorgeous\"},\n",
    "    {\"input\": \"smart\", \"output\": \"intelligent\"},\n",
    "    {\"input\": \"angry\", \"output\": \"irate\"},\n",
    "    {\"input\": \"eat\", \"output\": \"consume\"},\n",
    "    {\"input\": \"explore\", \"output\": \"discover\"},\n",
    "    {\"input\": \"helpful\", \"output\": \"beneficial\"},\n",
    "    {\"input\": \"Which country has won the most ICC Cricket World Cups?\",\n",
    "        \"output\": \"Australia (as of my knowledge cutoff in 2022)\"},\n",
    "    {\"input\":\"What is entropy?\",\"output\":\"Entropy is a concept in thermodynamics that refers to the measure of the disorder or randomness in a system\"}\n",
    "]\n"
   ]
  },
  {
   "cell_type": "code",
   "execution_count": 163,
   "id": "e9a91913",
   "metadata": {},
   "outputs": [],
   "source": [
    "to_vectorize = [\" \".join(example.values()) for example in word_synonyms]\n",
    "embeddings = OpenAIEmbeddings(openai_api_key=openai_api_key)\n",
    "vectorstore = Chroma.from_texts(to_vectorize, embeddings, metadatas=word_synonyms)"
   ]
  },
  {
   "cell_type": "code",
   "execution_count": 164,
   "id": "214403f5",
   "metadata": {},
   "outputs": [
    {
     "data": {
      "text/plain": [
       "[{'input': 'angry', 'output': 'irate'}, {'input': 'angry', 'output': 'irate'}]"
      ]
     },
     "execution_count": 164,
     "metadata": {},
     "output_type": "execute_result"
    }
   ],
   "source": [
    "example_selector = SemanticSimilarityExampleSelector(\n",
    "    vectorstore=vectorstore,\n",
    "    k=2,\n",
    ")\n",
    "\n",
    "# The prompt template will load examples by passing the input do the `select_examples` method\n",
    "example_selector.select_examples({\"input\": \"furious\"})"
   ]
  },
  {
   "cell_type": "code",
   "execution_count": 165,
   "id": "ac409d46",
   "metadata": {},
   "outputs": [],
   "source": [
    "from langchain.prompts import ChatPromptTemplate,FewShotChatMessagePromptTemplate\n",
    "\n",
    "# Define the few-shot prompt.\n",
    "few_shot_prompt = FewShotChatMessagePromptTemplate(\n",
    "    # The input variables select the values to pass to the example_selector\n",
    "    input_variables=[\"input\"],\n",
    "    example_selector=example_selector,\n",
    "    # Define how each example will be formatted.\n",
    "    # In this case, each example will become 2 messages:\n",
    "    # 1 human, and 1 AI\n",
    "    example_prompt=ChatPromptTemplate.from_messages(\n",
    "        [(\"human\", \"{input}\"), (\"ai\", \"{output}\")]\n",
    "    ),\n",
    ")"
   ]
  },
  {
   "cell_type": "code",
   "execution_count": 166,
   "id": "df61ffdb",
   "metadata": {},
   "outputs": [],
   "source": [
    "final_prompt = ChatPromptTemplate.from_messages(\n",
    "    [\n",
    "        (\"system\", \"You are a english language expert.\"),\n",
    "        few_shot_prompt,\n",
    "        (\"human\", \"{input}\"),\n",
    "    ]\n",
    ")"
   ]
  },
  {
   "cell_type": "code",
   "execution_count": 167,
   "id": "1e697325",
   "metadata": {},
   "outputs": [],
   "source": [
    "llm_prompt = final_prompt.format(input=\"Amazing\")"
   ]
  },
  {
   "cell_type": "code",
   "execution_count": 168,
   "id": "41e89d7a",
   "metadata": {},
   "outputs": [
    {
     "data": {
      "text/plain": [
       "AIMessage(content='AI: Astonishing')"
      ]
     },
     "execution_count": 168,
     "metadata": {},
     "output_type": "execute_result"
    }
   ],
   "source": [
    "llm_chat.invoke(llm_prompt)"
   ]
  },
  {
   "cell_type": "code",
   "execution_count": null,
   "id": "90b6b10d",
   "metadata": {},
   "outputs": [],
   "source": []
  }
 ],
 "metadata": {
  "kernelspec": {
   "display_name": "Python 3 (ipykernel)",
   "language": "python",
   "name": "python3"
  },
  "language_info": {
   "codemirror_mode": {
    "name": "ipython",
    "version": 3
   },
   "file_extension": ".py",
   "mimetype": "text/x-python",
   "name": "python",
   "nbconvert_exporter": "python",
   "pygments_lexer": "ipython3",
   "version": "3.9.7"
  }
 },
 "nbformat": 4,
 "nbformat_minor": 5
}
