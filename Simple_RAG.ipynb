{
 "cells": [
  {
   "cell_type": "code",
   "execution_count": 3,
   "id": "d1172015-9033-4dab-96bd-0f6b71d40fc6",
   "metadata": {},
   "outputs": [],
   "source": [
    "# !pip install -q accelerate bitsandbytes"
   ]
  },
  {
   "cell_type": "code",
   "execution_count": 74,
   "id": "35081fce-eb68-492c-884f-c34d221b9b87",
   "metadata": {
    "tags": []
   },
   "outputs": [],
   "source": [
    "# !pip install langchain==0.2.9"
   ]
  },
  {
   "cell_type": "code",
   "execution_count": 91,
   "id": "403b379b-56d6-4837-aba8-0c3def009758",
   "metadata": {
    "tags": []
   },
   "outputs": [],
   "source": [
    "# !pip install --upgrade langchain"
   ]
  },
  {
   "cell_type": "code",
   "execution_count": 92,
   "id": "24ad8ccb-2b16-4f0e-8536-17e3769275e2",
   "metadata": {
    "tags": []
   },
   "outputs": [],
   "source": [
    "# !pip install -U langchain-community"
   ]
  },
  {
   "cell_type": "code",
   "execution_count": 3,
   "id": "3eab1282-2fc9-4785-9f58-1beaa3b4d964",
   "metadata": {
    "tags": []
   },
   "outputs": [],
   "source": [
    "# !pip install typing-inspect==0.8.0 typing_extensions==4.5.0"
   ]
  },
  {
   "cell_type": "code",
   "execution_count": 4,
   "id": "3be85689-f006-4f51-9c04-966f62ca2e75",
   "metadata": {
    "tags": []
   },
   "outputs": [],
   "source": [
    "# !pip install pydantic -U"
   ]
  },
  {
   "cell_type": "code",
   "execution_count": 5,
   "id": "c0f241dc-4636-4ca7-a68e-3221904e2873",
   "metadata": {
    "tags": []
   },
   "outputs": [],
   "source": [
    "# pip install pydantic==1.10.11"
   ]
  },
  {
   "cell_type": "code",
   "execution_count": 75,
   "id": "7732b0b5-90e0-474f-aef0-3f5fb52e8c4c",
   "metadata": {},
   "outputs": [],
   "source": [
    "# !pip install pypdf"
   ]
  },
  {
   "cell_type": "code",
   "execution_count": 76,
   "id": "806e8238-ba62-46cd-bfad-c0c9846c91d3",
   "metadata": {
    "tags": []
   },
   "outputs": [],
   "source": [
    "# !pip install sentence-transformers"
   ]
  },
  {
   "cell_type": "code",
   "execution_count": 8,
   "id": "683d47b8-8dfa-4646-83bc-385b6db8fd5c",
   "metadata": {
    "tags": []
   },
   "outputs": [],
   "source": [
    "# !pip install chromadb"
   ]
  },
  {
   "cell_type": "code",
   "execution_count": 78,
   "id": "3ebabc87-2752-42f0-a366-fec1fb20e628",
   "metadata": {},
   "outputs": [],
   "source": [
    "# !pip install faiss-cpu==1.7.4"
   ]
  },
  {
   "cell_type": "code",
   "execution_count": 77,
   "id": "9cb006e6-1528-4e74-8f86-9d8ba3d6ecfc",
   "metadata": {},
   "outputs": [],
   "source": [
    "# !pip install -U langchain-huggingface"
   ]
  },
  {
   "cell_type": "code",
   "execution_count": 79,
   "id": "8018ba66-161c-4b22-a4a8-1366dc4c5e99",
   "metadata": {},
   "outputs": [],
   "source": [
    "# !pip install huggingface_hub"
   ]
  },
  {
   "cell_type": "code",
   "execution_count": 80,
   "id": "dc834970-a3ec-46e9-b2b6-f84e8bfb3e6e",
   "metadata": {},
   "outputs": [],
   "source": [
    "# !pip install accelerate"
   ]
  },
  {
   "cell_type": "code",
   "execution_count": 81,
   "id": "3f488a98-d03f-4f6c-80eb-d86a1f056a86",
   "metadata": {},
   "outputs": [],
   "source": [
    "# !pip install faiss-cpu"
   ]
  },
  {
   "cell_type": "code",
   "execution_count": 6,
   "id": "d9ba3b2c-bdac-4a82-9be9-93c59e93fc59",
   "metadata": {},
   "outputs": [],
   "source": [
    "from langchain.document_loaders import DirectoryLoader,PyPDFLoader\n",
    "from langchain.document_loaders import TextLoader\n",
    "from langchain.text_splitter import RecursiveCharacterTextSplitter\n",
    "from langchain.embeddings import HuggingFaceEmbeddings\n",
    "from langchain_community.vectorstores import Chroma\n",
    "from langchain_huggingface import HuggingFaceEndpoint\n",
    "from langchain.vectorstores import FAISS"
   ]
  },
  {
   "cell_type": "code",
   "execution_count": 105,
   "id": "1a9c92c3-671a-43a7-8951-b7a5cb4ed0b9",
   "metadata": {},
   "outputs": [],
   "source": [
    "import os\n",
    "# os.environ['HUGGINGFACE_TOKEN'] = <Hugging face token>"
   ]
  },
  {
   "cell_type": "code",
   "execution_count": 106,
   "id": "8ad40b03-dca0-45f1-94a5-13280c5f9f5f",
   "metadata": {},
   "outputs": [],
   "source": [
    "# os.environ['HUGGINGFACEHUB_API_TOKEN'] = <Hugging face token>"
   ]
  },
  {
   "cell_type": "code",
   "execution_count": 30,
   "id": "fb44c572-1603-4a6c-8e99-75b7721a2362",
   "metadata": {},
   "outputs": [],
   "source": [
    "loader = DirectoryLoader('./data/', glob=\"./*.pdf\", loader_cls=PyPDFLoader)\n",
    "\n",
    "docs = loader.load()"
   ]
  },
  {
   "cell_type": "code",
   "execution_count": 31,
   "id": "d58ad96c-4b2c-4733-98b2-57c57a4755c8",
   "metadata": {
    "scrolled": true,
    "tags": []
   },
   "outputs": [
    {
     "data": {
      "text/plain": [
       "[Document(metadata={'source': 'data\\\\cricket_doc_one.pdf', 'page': 0}, page_content='Title: Introduction to Cricket  \\nText: \\nCricket is a popular and exhilarating sport that captivates millions of \\nfans around the world. Known for its rich history, strategic gameplay, \\nand moments of sheer excitement, cricket has evolved into one of the most \\nbeloved sports globally.  \\nKey Elements of Cricket:  \\n1. Format:  \\n* Test Cricket: The longest format of the game, played over five days.  \\n* One Day Internationals (ODIs): Limited -overs format with each team \\ngetting 50 overs to bat.  \\n* Twenty20 (T20): An even shorter format with matches typically completed \\nin a few hours.  \\n2. Teams:  \\n* Cricket is played between two teams, each consisting of 11 players.  \\n3. Playing Equipment:  \\n* The players use a bat, a ball, and wear protective gear such as \\nhelmets, pads, and gloves.  \\n4. Pitch and Field:  \\n* The playing field is a circular ground with a 22 -yard-long pitch at its \\ncenter. \\n* The pitch has stumps at either end, and the teams take turns batting \\nand bowling.  \\n5. Scoring:  \\n* Runs are scored by the batsmen when they hit the ball and run between \\nthe stumps.  \\n* A boundary (four runs) or a six (ball cleared the boundary without \\ntouching the ground) adds to the team\\'s score.  \\n6. Wickets and Outs:  \\n* The bowling team aims to dismiss the batsmen by getting them out, \\neither by bowling them out, catching the ball, or other means.  \\n* Each team gets 10 wickets per innings.  \\nFamous Cricket Tournaments:  \\n1. The Ashes:  \\n* A historic Test series played between England and Australia, dating \\nback to 1882.  \\n2. ICC Cricket World Cup:  \\n* A quadrennial ODI tournament featuring national teams from around the \\nworld. \\n3. Indian Premier League (IPL):  \\n* A popular T20 league featuring franchises with international and \\ndomestic players.  \\nCricket Legends:  \\n1. Sachin Tendulkar:  \\n* Regarded as one of the greatest batsmen in the history of cricket, the \\n\"Little Master\" has numerous records to his name.  \\n2. Sir Don Bradman:  \\n* An iconic Australian cricketer with an unmatched batting average, often \\nconsidered the greatest of all time.  \\nConclusion:  \\nCricket\\'s unique blend of skill, strategy, and tradition continues to \\ncaptivate audiences worldwide. Whether it\\'s the fierce competition of \\ninternational matches or the electrifying atmosphere of T20 leagues, \\ncricket remains a sport that unites people acro ss cultures and borders.  \\n '),\n",
       " Document(metadata={'source': 'data\\\\cricket_doc_two.pdf', 'page': 0}, page_content=\"Title:  The Essence  of Cricket  \\nText:  \\nRules  of Cricket:  \\n1. Batting:  \\n• Batsmen score runs by hitting the ball and running between the \\nstumps.  \\n• If the ball reaches or crosses the boundary, the batsman scores four or \\nsix runs accordingly.  \\n2. Bowling:  \\n• Bowlers aim to dismiss batsmen by hitting the stumps, catching them \\nout, or trapping them leg -before -wicket (LBW).  \\n• A bowler can also get a batsman out by a run -out or stumping if the \\nbatsman is out of their crease.  \\n3. Fielding:  \\n• Fielders play a crucial role in stopping runs and taking catches to \\ndismiss batsmen.  \\n• The wicketkeeper stands behind the stumps and is involved in \\nstumping and catching.  \\n4. Umpire  Decisions:  \\n• On-field umpires make decisions regarding dismissals, boundaries, and \\nother aspects of the game.  \\n• Decision reviews using technology (DRS) allow teams to challenge on -\\nfield decisions.  \\nStrategies  in Cricket:  \\n1. Field  Placements:  \\n• Captains strategically position fielders to prevent runs and create \\nopportunities for wickets.  \\n• Different fielding positions, such as slips, gully, point, cover, mid -wicket, \\nand fine leg, serve specific purposes.  \\n2. Bowling  Tactics:  \\n• Bowlers employ various deliveries, including fast balls, spin, and swing, \\nto outsmart batsmen.  \\n• Teams often use spinners to exploit pitch conditions and slow down the \\nscoring rate.  \\n3. Batting  Techniques:  \\n• Batsmen employ different shots, including drives, cuts, pulls, and \\nsweeps, depending on the ball's line and length.  \"),\n",
       " Document(metadata={'source': 'data\\\\cricket_doc_two.pdf', 'page': 1}, page_content=\"• Opening batsmen focus on building a solid foundation, while middle -\\norder batsmen aim to accelerate the scoring.  \\nNotable  Cricket  Moments:  \\n1. The Miracle  of Headingley  1981:  \\n• England's improbable win against Australia, led by Ian Botham's heroic \\nall-round performance.  \\n2. Tied Test - India  vs. Australia  1986:  \\n• The thrilling tied Test match where the scores of both teams were \\nequal, a rare occurrence in cricket history.  \\n3. 2007  ICC World  Twenty20  Final:  \\n• India's victory against Pakistan in the inaugural T20 World Cup final, a \\ngame -changing moment for Indian cricket.  \\nModern  Cricket  Innovations:  \\n1. Day-Night  Test Matches:  \\n• Test matches played with a pink ball under lights, adding a new \\ndimension to traditional Test cricket.  \\n2. Powerplays  in Limited -Overs  Cricket:  \\n• The introduction of powerplays in ODIs and T20s, with specific fielding \\nrestrictions during certain overs.  \\nConclusion:  \\nCricket is more than just a game; it's a spectacle of skill, strategy, and unforgettable \\nmoments. From the historic rivalries in Test cricket to the fast -paced action of T20 \\nleagues, cricket continues to evolve while preserving the spirit that has made it a \\nglobal phenomenon.  \\n \"),\n",
       " Document(metadata={'source': 'data\\\\machine_learning_doc_one.pdf', 'page': 0}, page_content='Title: Understanding Machine Learning  \\nText: \\nIntroduction to Machine Learning:  \\nMachine Learning (ML) is a branch of artificial intelligence (AI) that \\nempowers systems to learn and improve from experience without explicit \\nprogramming. It involves developing algorithms that can automatically \\nrecognize patterns, make predictions, and ev olve with new data.  \\nTypes of Machine Learning:  \\n1. Supervised Learning:  \\n* In supervised learning, the algorithm is trained on a labeled dataset, \\nwhere input data is paired with corresponding output labels.  \\n* The goal is to learn a mapping function from inputs to outputs, \\nenabling the algorithm to make predictions on unseen data.  \\n2. Unsupervised Learning:  \\n* Unsupervised learning involves working with unlabeled data, where the \\nalgorithm explores the inherent structure or patterns within the data.  \\n* Clustering and dimensionality reduction are common tasks in \\nunsupervised learning.  \\n3. Reinforcement Learning:  \\n* Reinforcement learning focuses on training agents to make sequences of \\ndecisions in an environment to maximize cumulative rewards.  \\n* It is commonly used in applications like game playing and robotic \\ncontrol.  \\nKey Concepts in Machine Learning:  \\n1. Feature Engineering:  \\n* Feature engineering involves selecting and transforming relevant \\nfeatures from raw data to improve model performance.  \\n* It plays a crucial role in creating effective models.  \\n2. Model Evaluation:  \\n* Metrics like accuracy, precision, recall, and F1 score are used to \\nevaluate the performance of machine learning models.  \\n* Cross-validation is often employed to assess model robustness.  \\n3. Overfitting and Underfitting:  \\n* Overfitting occurs when a model learns the training data too well, \\nincluding noise, and performs poorly on new data.  \\n* Underfitting happens when a model is too simple and fails to capture \\nthe underlying patterns in the data.  \\nPopular Machine Learning Algorithms:  \\n1. Linear Regression:  \\n* Used for predicting a continuous target variable based on one or more \\ninput features.  \\n2. Decision Trees:  \\n* Tree-like models that make decisions based on splitting features at \\ndifferent nodes.  \\n3. Support Vector Machines (SVM):  \\n* Effective for classification and regression tasks, using hyperplanes to \\nseparate data points.  \\n4. Neural Networks:  \\n* Deep learning models composed of interconnected nodes (neurons) \\norganized in layers, capable of learning complex patterns.  \\nApplications of Machine Learning:  \\n1. Natural Language Processing (NLP):  \\n* ML is used in NLP for tasks like sentiment analysis, language \\ntranslation, and chatbot development.  \\n2. Computer Vision:  \\n* Image recognition, object detection, and facial recognition are common \\napplications of ML in computer vision.  \\n3. Healthcare:  '),\n",
       " Document(metadata={'source': 'data\\\\machine_learning_doc_one.pdf', 'page': 1}, page_content='* ML is applied in healthcare for diagnosing diseases, predicting patient \\noutcomes, and personalizing treatment plans.  \\nChallenges and Future Trends:  \\n1. Ethical Considerations:  \\n* As ML becomes more prevalent, ethical concerns related to bias, \\nfairness, and transparency must be addressed.  \\n2. Explainable AI:  \\n* The need for models that provide clear explanations for their \\npredictions is gaining importance, especially in critical applications.  \\nConclusion:  \\nMachine Learning has transformed various industries, offering solutions \\nto complex problems and enabling systems to adapt and improve over time. \\nAs advancements continue, the potential for innovation and positive \\nimpact on society is vast.  \\n '),\n",
       " Document(metadata={'source': 'data\\\\machine_learning_doc_two.pdf', 'page': 0}, page_content='Title:  Exploring  Machine  Learning  Further  \\nText:  \\nDeep  Learning  and Neural  Networks:  \\n1. Deep  Learning  Fundamentals:  \\n• Deep Learning is a subset of machine learning that focuses on neural \\nnetworks with multiple layers (deep neural networks).  \\n• It excels in tasks like image and speech recognition, natural language \\nprocessing, and more complex pattern recognition problems.  \\n2. Convolutional  Neural  Networks  (CNNs):  \\n• CNNs are particularly effective for image recognition tasks, using \\nconvolutional layers to detect patterns and features.  \\n• They have been crucial in advancements like object detection and facial \\nrecognition.  \\n3. Recurrent  Neural  Networks  (RNNs):  \\n• RNNs are designed to handle sequential data, making them suitable for \\ntasks like time series prediction, language modeling, and speech \\nrecognition.  \\nModel  Deployment  and Productionization:  \\n1. Model  Deployment  Challenges:  \\n• Deploying machine learning models into production involves \\nchallenges such as handling real -time data, scalability, and maintaining \\nmodel performance.  \\n2. Containerization  and Microservices:  \\n• Techniques like containerization (e.g., Docker) and microservices \\narchitecture help streamline the deployment of machine learning \\nmodels, making them more scalable and maintainable.  \\n3. Monitoring  and Maintenance:  \\n• Continuous monitoring of model performance, retraining strategies, \\nand addressing data drift are crucial for maintaining the effectiveness \\nof deployed models over time.  \\nEthical  Considerations  in Machine  Learning:  \\n1. Bias and Fairness:  \\n• Machine learning models can inherit biases from training data, leading \\nto unfair outcomes.  '),\n",
       " Document(metadata={'source': 'data\\\\machine_learning_doc_two.pdf', 'page': 1}, page_content='• Addressing bias involves careful dataset curation, algorithmic fairness, \\nand ongoing evaluation.  \\n2. Interpretability:  \\n• Ensuring models are interpretable and transparent is essential for \\nbuilding trust and understanding the reasoning behind model \\npredictions.  \\n3. Privacy  Concerns:  \\n• Machine learning applications often involve sensitive data, \\nnecessitating robust privacy measures such as anonymization and \\nsecure model training.  \\n4. Explainability  and Accountability:  \\n• Stakeholders must be able to understand and interpret how models \\nmake decisions. Establishing accountability for model outcomes is \\ncrucial.  \\nMachine  Learning  Tools  and Frameworks:  \\n1. TensorFlow:  \\n• An open -source machine learning framework developed by Google, \\nwidely used for building and deploying ML models.  \\n2. PyTorch:  \\n• An open -source deep learning library that facilitates building and \\ntraining neural networks, known for its dynamic computation graph.  \\n3. Scikit -Learn:  \\n• A versatile machine learning library in Python that provides simple and \\nefficient tools for data analysis and modeling.  \\nEmerging  Trends  in Machine  Learning:  \\n1. AutoML:  \\n• Automated Machine Learning (AutoML) aims to simplify the machine \\nlearning process, automating tasks such as feature engineering, model \\nselection, and hyperparameter tuning.  \\n2. Federated  Learning:  \\n• Federated Learning allows models to be trained across decentralized \\ndevices, preserving data privacy and security.  \\n3. Explainable  AI (XAI):  \\n• The demand for models that offer clear explanations for their decisions \\nis driving research and development in Explainable AI.  \\nConclusion:  '),\n",
       " Document(metadata={'source': 'data\\\\machine_learning_doc_two.pdf', 'page': 2}, page_content='As machine learning continues to advance, it presents exciting opportunities and \\nchallenges. From deploying models at scale to addressing ethical considerations, the \\nfield is dynamic and plays a pivotal role in shaping the future of technology.  \\n ')]"
      ]
     },
     "execution_count": 31,
     "metadata": {},
     "output_type": "execute_result"
    }
   ],
   "source": [
    "docs"
   ]
  },
  {
   "cell_type": "code",
   "execution_count": 103,
   "id": "b379e1ef-1d15-4a94-b1a9-2e599783be56",
   "metadata": {},
   "outputs": [
    {
     "data": {
      "text/plain": [
       "8"
      ]
     },
     "execution_count": 103,
     "metadata": {},
     "output_type": "execute_result"
    }
   ],
   "source": [
    "len(docs)"
   ]
  },
  {
   "cell_type": "code",
   "execution_count": 32,
   "id": "be5ddf6b-3282-4d44-8e6e-c5c33d5797ab",
   "metadata": {
    "tags": []
   },
   "outputs": [],
   "source": [
    "text_splitter = RecursiveCharacterTextSplitter(chunk_size=500, chunk_overlap=100)\n",
    "texts = text_splitter.split_documents(docs)"
   ]
  },
  {
   "cell_type": "code",
   "execution_count": 33,
   "id": "1604fa23-b20f-4b86-8e85-80a82bc4eecf",
   "metadata": {},
   "outputs": [
    {
     "data": {
      "text/plain": [
       "Document(metadata={'source': 'data\\\\cricket_doc_one.pdf', 'page': 0}, page_content='Title: Introduction to Cricket  \\nText: \\nCricket is a popular and exhilarating sport that captivates millions of \\nfans around the world. Known for its rich history, strategic gameplay, \\nand moments of sheer excitement, cricket has evolved into one of the most \\nbeloved sports globally.  \\nKey Elements of Cricket:  \\n1. Format:  \\n* Test Cricket: The longest format of the game, played over five days.  \\n* One Day Internationals (ODIs): Limited -overs format with each team \\ngetting 50 overs to bat.')"
      ]
     },
     "execution_count": 33,
     "metadata": {},
     "output_type": "execute_result"
    }
   ],
   "source": [
    "texts[0]"
   ]
  },
  {
   "cell_type": "code",
   "execution_count": 34,
   "id": "0e7fa9f2-a64c-4e40-beca-87343f35c25b",
   "metadata": {},
   "outputs": [
    {
     "data": {
      "text/plain": [
       "Document(metadata={'source': 'data\\\\cricket_doc_one.pdf', 'page': 0}, page_content='* One Day Internationals (ODIs): Limited -overs format with each team \\ngetting 50 overs to bat.  \\n* Twenty20 (T20): An even shorter format with matches typically completed \\nin a few hours.  \\n2. Teams:  \\n* Cricket is played between two teams, each consisting of 11 players.  \\n3. Playing Equipment:  \\n* The players use a bat, a ball, and wear protective gear such as \\nhelmets, pads, and gloves.  \\n4. Pitch and Field:  \\n* The playing field is a circular ground with a 22 -yard-long pitch at its')"
      ]
     },
     "execution_count": 34,
     "metadata": {},
     "output_type": "execute_result"
    }
   ],
   "source": [
    "texts[1]"
   ]
  },
  {
   "cell_type": "code",
   "execution_count": 41,
   "id": "cfc33c83-ed78-48d4-9a0e-44360c5106b9",
   "metadata": {},
   "outputs": [],
   "source": [
    "db = FAISS.from_documents(texts, HuggingFaceEmbeddings(model_name='BAAI/bge-base-en-v1.5'))"
   ]
  },
  {
   "cell_type": "code",
   "execution_count": 96,
   "id": "16ed5ce0-97d9-4e8d-bcdd-18cc529f9397",
   "metadata": {},
   "outputs": [
    {
     "name": "stdout",
     "output_type": "stream",
     "text": [
      "* One Day Internationals (ODIs): Limited -overs format with each team \n",
      "getting 50 overs to bat.  \n",
      "* Twenty20 (T20): An even shorter format with matches typically completed \n",
      "in a few hours.  \n",
      "2. Teams:  \n",
      "* Cricket is played between two teams, each consisting of 11 players.  \n",
      "3. Playing Equipment:  \n",
      "* The players use a bat, a ball, and wear protective gear such as \n",
      "helmets, pads, and gloves.  \n",
      "4. Pitch and Field:  \n",
      "* The playing field is a circular ground with a 22 -yard-long pitch at its\n"
     ]
    }
   ],
   "source": [
    "query = \"how many overs are there in ODI?\"\n",
    "relevant_documents = db.similarity_search(query)\n",
    "print(relevant_documents[0].page_content)"
   ]
  },
  {
   "cell_type": "code",
   "execution_count": 94,
   "id": "9d6adace-fccf-4a6e-b223-baaf0d23046f",
   "metadata": {},
   "outputs": [],
   "source": [
    "retriever = db.as_retriever(search_type=\"similarity\", search_kwargs={\"k\": 1})"
   ]
  },
  {
   "cell_type": "code",
   "execution_count": 95,
   "id": "ff0ee7b2-71b0-4534-92bc-6c3414b726ac",
   "metadata": {},
   "outputs": [
    {
     "data": {
      "text/plain": [
       "[Document(metadata={'source': 'data\\\\cricket_doc_one.pdf', 'page': 0}, page_content='* One Day Internationals (ODIs): Limited -overs format with each team \\ngetting 50 overs to bat.  \\n* Twenty20 (T20): An even shorter format with matches typically completed \\nin a few hours.  \\n2. Teams:  \\n* Cricket is played between two teams, each consisting of 11 players.  \\n3. Playing Equipment:  \\n* The players use a bat, a ball, and wear protective gear such as \\nhelmets, pads, and gloves.  \\n4. Pitch and Field:  \\n* The playing field is a circular ground with a 22 -yard-long pitch at its')]"
      ]
     },
     "execution_count": 95,
     "metadata": {},
     "output_type": "execute_result"
    }
   ],
   "source": [
    "retriever.get_relevant_documents(query)"
   ]
  },
  {
   "cell_type": "code",
   "execution_count": 107,
   "id": "dd96d865-e51d-4b6f-a4c9-c2f4ff60f537",
   "metadata": {},
   "outputs": [
    {
     "name": "stderr",
     "output_type": "stream",
     "text": [
      "WARNING! max_length is not default parameter.\n",
      "                    max_length was transferred to model_kwargs.\n",
      "                    Please make sure that max_length is what you intended.\n"
     ]
    },
    {
     "name": "stdout",
     "output_type": "stream",
     "text": [
      "The token has not been saved to the git credentials helper. Pass `add_to_git_credential=True` in this function directly or `--add-to-git-credential` if using via `huggingface-cli` if you want to set the git credential as well.\n",
      "Token is valid (permission: write).\n",
      "Your token has been saved to C:\\Users\\diwak\\.cache\\huggingface\\token\n",
      "Login successful\n"
     ]
    }
   ],
   "source": [
    "repo_id=\"mistralai/Mistral-7B-v0.1\"\n",
    "llm=HuggingFaceEndpoint(repo_id=repo_id,max_length=128,temperature=0.7)"
   ]
  },
  {
   "cell_type": "code",
   "execution_count": 108,
   "id": "5c1582a4-f1d8-4562-8b8a-ff611210ab3e",
   "metadata": {},
   "outputs": [
    {
     "data": {
      "text/plain": [
       "'?\\n\\nMachine learning is the subfield of artificial intelligence (AI) that allows computers to learn from data, make decisions, and improve over time. It is a type of AI that uses algorithms and statistical models to analyze data, identify patterns, and make predictions.\\n\\nThe term “machine learning” was coined by Arthur Samuel in 1959, who defined it as “the field of study that gives computers the ability to learn without being explicitly programmed.”\\n\\nMachine learning is a broad field that encompasses many different techniques and approaches. Some of the most common types of machine learning include:\\n\\n- Supervised learning: In supervised learning, the algorithm is trained on a labeled dataset, which means that the data is already labeled with the correct output. The algorithm then uses this labeled data to learn how to make predictions on new, unlabeled data.\\n- Unsupervised learning: In unsupervised learning, the algorithm is trained on a dataset that is not labeled. Instead, the algorithm is tasked with finding patterns and structures in the data.\\n- Reinforcement learning: In reinforcement learning, the algorithm is trained to make decisions in an environment that provides feedback in the form of rewards and punishments. The algorithm learns through trial and error, and the goal is to maximize the rewards while minimizing the punishments.\\n\\nMachine learning algorithms are used in a wide range of applications, including:\\n\\n- Speech recognition\\n- Image recognition\\n- Natural language processing\\n- Recommendation systems\\n- Fraud detection\\n- Predictive maintenance\\n\\nMachine learning has revolutionized many industries and has the potential to transform many more. It is a powerful tool that is changing the way we interact with technology and the world around us.\\n\\nWhat is deep learning?\\n\\nDeep learning is a type of machine learning that uses artificial neural networks to process data. These networks are inspired by the structure and function of the human brain and are designed to mimic the way neurons in the brain connect and communicate with each other.\\n\\nDeep learning algorithms can process large amounts of data and learn complex patterns and relationships between different features in the data. This makes them particularly useful for tasks such as image and speech recognition, natural language processing, and predictive modeling.\\n\\nDeep learning algorithms are trained using a technique called backpropagation, which involves feeding the network with input data, calculating the output, and then adjusting the weights of'"
      ]
     },
     "execution_count": 108,
     "metadata": {},
     "output_type": "execute_result"
    }
   ],
   "source": [
    "llm.invoke(\"What is machine learning\")"
   ]
  },
  {
   "cell_type": "code",
   "execution_count": 109,
   "id": "896cd10c-f6f3-45bb-a234-05ee3015a226",
   "metadata": {},
   "outputs": [],
   "source": [
    "prompt_template = \"\"\"Based on the provided context, respond to the question below while adhering to these guidelines:\n",
    "1. If the answer is unclear or not found, do not speculate. Instead, state, \"I do not know the answer\"\n",
    "2. If the answer is found, provide a clear and concise response in no more than ten sentences.\n",
    "\n",
    "{context}\n",
    "\n",
    "Question: {question}\n",
    "\n",
    "Answer:\n",
    "\"\"\"\n",
    "\n",
    "\n",
    "PROMPT = PromptTemplate(\n",
    " template=prompt_template, input_variables=[\"context\", \"question\"]\n",
    ")"
   ]
  },
  {
   "cell_type": "code",
   "execution_count": 110,
   "id": "44bd6290-dc52-43f2-8566-e0f7bfa72add",
   "metadata": {},
   "outputs": [],
   "source": [
    "from langchain.chains import RetrievalQA"
   ]
  },
  {
   "cell_type": "code",
   "execution_count": 111,
   "id": "7890d691-800b-438b-af4a-08073f4e4a4f",
   "metadata": {},
   "outputs": [],
   "source": [
    "retrievalQA = RetrievalQA.from_chain_type(\n",
    "    llm=llm,\n",
    "    chain_type=\"stuff\",\n",
    "    retriever=retriever,\n",
    "    return_source_documents=True,\n",
    "    chain_type_kwargs={\"prompt\": PROMPT}\n",
    ")"
   ]
  },
  {
   "cell_type": "code",
   "execution_count": 100,
   "id": "57a4a8b9-175b-4121-a73f-bdc69c055caa",
   "metadata": {},
   "outputs": [
    {
     "name": "stdout",
     "output_type": "stream",
     "text": [
      "\n",
      "In One Day Internationals (ODIs), each team gets to bat for 50 overs. This format of cricket is known as limited-overs cricket, as opposed to Test cricket, where there is no limit to the number of overs a team can bowl. The game is played between two teams consisting of 11 players, and the team with the highest score at the end of the 100 overs wins the match.\n"
     ]
    }
   ],
   "source": [
    "# Call the QA chain\n",
    "result = retrievalQA.invoke({\"query\": query})\n",
    "print(result['result'])"
   ]
  },
  {
   "cell_type": "code",
   "execution_count": 101,
   "id": "fa3956d5-058b-4ba4-815e-c623debaea66",
   "metadata": {},
   "outputs": [
    {
     "name": "stdout",
     "output_type": "stream",
     "text": [
      "Supervised Learning is a type of machine learning algorithm that uses labeled data to train a model to make predictions or classifications on new, unseen data. The algorithm learns to map input data to output labels by adjusting its internal parameters based on the difference between its predictions and the true labels. This process, known as gradient descent, continues iteratively until the algorithm achieves a desired level of accuracy. The goal is to create a model that can accurately predict the output label for new, unseen input data.\n"
     ]
    }
   ],
   "source": [
    "# Call the QA chain\n",
    "query = \"what is Supervised Learning?\"\n",
    "result = retrievalQA.invoke({\"query\": query})\n",
    "print(result['result'])"
   ]
  },
  {
   "cell_type": "code",
   "execution_count": 102,
   "id": "397b69c8-d5a4-4de0-9402-59fecd2a1849",
   "metadata": {},
   "outputs": [
    {
     "data": {
      "text/plain": [
       "[Document(metadata={'source': 'data\\\\machine_learning_doc_one.pdf', 'page': 0}, page_content='1. Supervised Learning:  \\n* In supervised learning, the algorithm is trained on a labeled dataset, \\nwhere input data is paired with corresponding output labels.  \\n* The goal is to learn a mapping function from inputs to outputs, \\nenabling the algorithm to make predictions on unseen data.  \\n2. Unsupervised Learning:  \\n* Unsupervised learning involves working with unlabeled data, where the \\nalgorithm explores the inherent structure or patterns within the data.')]"
      ]
     },
     "execution_count": 102,
     "metadata": {},
     "output_type": "execute_result"
    }
   ],
   "source": [
    "retriever.get_relevant_documents(query)"
   ]
  },
  {
   "cell_type": "code",
   "execution_count": 90,
   "id": "8b8d4b16-0944-49f9-a703-6588289dd7ca",
   "metadata": {},
   "outputs": [],
   "source": [
    "# device = torch.device(\"cuda\" if torch.cuda.is_available() else \"cpu\")\n",
    "# print(f\"Using device: {device}\")"
   ]
  },
  {
   "cell_type": "code",
   "execution_count": 73,
   "id": "7d1747da-5edc-4cac-9cce-cf37dc37d2ef",
   "metadata": {},
   "outputs": [],
   "source": [
    "# import torch\n",
    "\n",
    "# print(\"Number of GPU: \", torch.cuda.device_count())\n",
    "# print(\"GPU Name: \", torch.cuda.get_device_name())\n",
    "\n",
    "\n",
    "# device = torch.device('cuda' if torch.cuda.is_available() else 'cpu')\n",
    "# print('Using device:', device)"
   ]
  },
  {
   "cell_type": "code",
   "execution_count": null,
   "id": "9946a28a-7351-4d6b-bc1c-874c86549826",
   "metadata": {},
   "outputs": [],
   "source": []
  }
 ],
 "metadata": {
  "kernelspec": {
   "display_name": "Python 3 (ipykernel)",
   "language": "python",
   "name": "python3"
  },
  "language_info": {
   "codemirror_mode": {
    "name": "ipython",
    "version": 3
   },
   "file_extension": ".py",
   "mimetype": "text/x-python",
   "name": "python",
   "nbconvert_exporter": "python",
   "pygments_lexer": "ipython3",
   "version": "3.8.19"
  }
 },
 "nbformat": 4,
 "nbformat_minor": 5
}
